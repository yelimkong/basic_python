{
  "nbformat": 4,
  "nbformat_minor": 0,
  "metadata": {
    "colab": {
      "provenance": []
    },
    "kernelspec": {
      "name": "python3",
      "display_name": "Python 3"
    },
    "language_info": {
      "name": "python"
    }
  },
  "cells": [
    {
      "cell_type": "markdown",
      "source": [
        "### Numpy"
      ],
      "metadata": {
        "id": "42Fe3zK-6hiD"
      }
    },
    {
      "cell_type": "markdown",
      "source": [
        "Numpy : Numerical Python\n",
        "\n",
        "\n",
        "---\n",
        "\n",
        "\n",
        "\n",
        "**Numpy 기능**\n",
        "1. ndarray : 빠른 배열 계산과 유연한 **브로드캐스팅** 기능\n",
        "2.전체 데이터 배열을 빠르게 계산할 수 있는 표준 수학 함수\n",
        "3. 배열 데이터를 디스크에 쓰거나 읽을 수 있는 도구와 메모리에 적재된 파일을 다루는 도구\n",
        "4. 선형대수, 난수 생성기, 푸리에 변환 기능\n",
        "5. C, C++, 포트란으로 작성한 코드를 연결할 수 있는 C API\n"
      ],
      "metadata": {
        "id": "mvB65UUb62tu"
      }
    },
    {
      "cell_type": "markdown",
      "source": [
        "## 4.1 NumPy ndarray : 다차원 배열 객체"
      ],
      "metadata": {
        "id": "ycFP4zza_0hK"
      }
    },
    {
      "cell_type": "code",
      "source": [
        "import numpy as np\n",
        "\n",
        "# 임의의 값을 생성\n",
        "data = np.random.randn(2,3)\n",
        "\n",
        "data\n"
      ],
      "metadata": {
        "colab": {
          "base_uri": "https://localhost:8080/"
        },
        "id": "sv7j7Etq62z7",
        "outputId": "5a379d01-4bb6-45ac-a0f4-14274bad7cab"
      },
      "execution_count": null,
      "outputs": [
        {
          "output_type": "execute_result",
          "data": {
            "text/plain": [
              "array([[-0.49620522,  1.53425792,  0.41840664],\n",
              "       [-1.37480955, -0.69608001, -0.99091566]])"
            ]
          },
          "metadata": {},
          "execution_count": 76
        }
      ]
    },
    {
      "cell_type": "markdown",
      "source": [
        "**산술 연산**"
      ],
      "metadata": {
        "id": "hNocLpuq6267"
      }
    },
    {
      "cell_type": "code",
      "source": [
        "data * 10"
      ],
      "metadata": {
        "colab": {
          "base_uri": "https://localhost:8080/"
        },
        "id": "4bERkUUE63CP",
        "outputId": "9abf04e1-83ee-4e45-d071-a0b033b9458a"
      },
      "execution_count": null,
      "outputs": [
        {
          "output_type": "execute_result",
          "data": {
            "text/plain": [
              "array([[ -4.9620522 ,  15.34257922,   4.18406645],\n",
              "       [-13.74809553,  -6.96080005,  -9.9091566 ]])"
            ]
          },
          "metadata": {},
          "execution_count": 77
        }
      ]
    },
    {
      "cell_type": "code",
      "source": [
        "data + data"
      ],
      "metadata": {
        "colab": {
          "base_uri": "https://localhost:8080/"
        },
        "id": "u7ek-wNE63I7",
        "outputId": "204b7394-981e-4f01-8e50-cf1f4ac580cb"
      },
      "execution_count": null,
      "outputs": [
        {
          "output_type": "execute_result",
          "data": {
            "text/plain": [
              "array([[-0.99241044,  3.06851584,  0.83681329],\n",
              "       [-2.74961911, -1.39216001, -1.98183132]])"
            ]
          },
          "metadata": {},
          "execution_count": 78
        }
      ]
    },
    {
      "cell_type": "code",
      "source": [
        "# shape : 각 차원의 크기\n",
        "data.shape"
      ],
      "metadata": {
        "colab": {
          "base_uri": "https://localhost:8080/"
        },
        "id": "64VlhtOL63P_",
        "outputId": "f6f34826-a304-4a6f-ae78-6b5fc5a21b07"
      },
      "execution_count": null,
      "outputs": [
        {
          "output_type": "execute_result",
          "data": {
            "text/plain": [
              "(2, 3)"
            ]
          },
          "metadata": {},
          "execution_count": 79
        }
      ]
    },
    {
      "cell_type": "code",
      "source": [
        "# dtype :  튜플과 배열에 저장된 자료형 알려줌\n",
        "data.dtype"
      ],
      "metadata": {
        "colab": {
          "base_uri": "https://localhost:8080/"
        },
        "id": "wGlK2BgV63XC",
        "outputId": "96f98150-b231-48e4-f0bf-b563edea56a2"
      },
      "execution_count": null,
      "outputs": [
        {
          "output_type": "execute_result",
          "data": {
            "text/plain": [
              "dtype('float64')"
            ]
          },
          "metadata": {},
          "execution_count": 80
        }
      ]
    },
    {
      "cell_type": "markdown",
      "source": [
        "### 4.1.1 ndarray 생성하기"
      ],
      "metadata": {
        "id": "JenTVXBA63eL"
      }
    },
    {
      "cell_type": "markdown",
      "source": [
        "파이썬의 리스트는 변환하기 좋은 예"
      ],
      "metadata": {
        "id": "qtL2SZJUB38f"
      }
    },
    {
      "cell_type": "code",
      "source": [
        "data1 = [6, 7.5, 8, 0, 1]\n",
        "arr1 = np.array(data1)\n",
        "arr1"
      ],
      "metadata": {
        "colab": {
          "base_uri": "https://localhost:8080/"
        },
        "id": "HyxLaokR63la",
        "outputId": "4b01ccf4-2b4e-4288-86b7-4a5b957c6d8b"
      },
      "execution_count": null,
      "outputs": [
        {
          "output_type": "execute_result",
          "data": {
            "text/plain": [
              "array([6. , 7.5, 8. , 0. , 1. ])"
            ]
          },
          "metadata": {},
          "execution_count": 81
        }
      ]
    },
    {
      "cell_type": "markdown",
      "source": [
        "같은 길이를 가지는 **리스트를 내포**하고 있는 순차 데이터는 **다차원 배열로 변환** 가능"
      ],
      "metadata": {
        "id": "4PXyNVvC63sa"
      }
    },
    {
      "cell_type": "code",
      "source": [
        "data2 = [[1, 2, 3, 4], [5, 6, 7, 8]]\n",
        "arr2 = np.array(data2)\n",
        "arr2"
      ],
      "metadata": {
        "colab": {
          "base_uri": "https://localhost:8080/"
        },
        "id": "Uv3vu4he63zX",
        "outputId": "aa175efb-b343-42a8-b86a-bbb9b1ef11b8"
      },
      "execution_count": null,
      "outputs": [
        {
          "output_type": "execute_result",
          "data": {
            "text/plain": [
              "array([[1, 2, 3, 4],\n",
              "       [5, 6, 7, 8]])"
            ]
          },
          "metadata": {},
          "execution_count": 82
        }
      ]
    },
    {
      "cell_type": "code",
      "source": [
        "# 속성 검사\n",
        "arr2.ndim"
      ],
      "metadata": {
        "colab": {
          "base_uri": "https://localhost:8080/"
        },
        "id": "pX3YPRdu636N",
        "outputId": "2432f936-7b34-476e-cbee-bc3ec62b63db"
      },
      "execution_count": null,
      "outputs": [
        {
          "output_type": "execute_result",
          "data": {
            "text/plain": [
              "2"
            ]
          },
          "metadata": {},
          "execution_count": 83
        }
      ]
    },
    {
      "cell_type": "code",
      "source": [
        "arr2.shape"
      ],
      "metadata": {
        "colab": {
          "base_uri": "https://localhost:8080/"
        },
        "id": "_0xOwMN-64Bb",
        "outputId": "c33bc30b-9f0e-433a-b5fd-dccb4c1bffc4"
      },
      "execution_count": null,
      "outputs": [
        {
          "output_type": "execute_result",
          "data": {
            "text/plain": [
              "(2, 4)"
            ]
          },
          "metadata": {},
          "execution_count": 84
        }
      ]
    },
    {
      "cell_type": "code",
      "source": [
        "# 자료형 확인\n",
        "arr1.dtype"
      ],
      "metadata": {
        "colab": {
          "base_uri": "https://localhost:8080/"
        },
        "id": "bAng4eiL64JQ",
        "outputId": "f0a1e54c-9774-40c0-ddfe-1b5296e2e298"
      },
      "execution_count": null,
      "outputs": [
        {
          "output_type": "execute_result",
          "data": {
            "text/plain": [
              "dtype('float64')"
            ]
          },
          "metadata": {},
          "execution_count": 85
        }
      ]
    },
    {
      "cell_type": "code",
      "source": [
        "arr2.dtype"
      ],
      "metadata": {
        "colab": {
          "base_uri": "https://localhost:8080/"
        },
        "id": "5OrdE7vM64Q-",
        "outputId": "ef8deaa8-b2fb-4752-df10-5b5aa5be50f2"
      },
      "execution_count": null,
      "outputs": [
        {
          "output_type": "execute_result",
          "data": {
            "text/plain": [
              "dtype('int64')"
            ]
          },
          "metadata": {},
          "execution_count": 86
        }
      ]
    },
    {
      "cell_type": "markdown",
      "source": [
        "np.array 함수의 종류\n",
        "\n",
        "1. zeros : 0 이 들어 있는 배열 생성\n",
        "2. ones :  1이 들어 있는 배열 생성\n",
        "3. empty : 초기화되지 않은 배열 생성"
      ],
      "metadata": {
        "id": "dCzbQtBiDSRK"
      }
    },
    {
      "cell_type": "code",
      "source": [
        "np.zeros(10)"
      ],
      "metadata": {
        "colab": {
          "base_uri": "https://localhost:8080/"
        },
        "id": "vLwRknZrDVJp",
        "outputId": "9660967b-1faf-4205-d1db-4e77871c7a26"
      },
      "execution_count": null,
      "outputs": [
        {
          "output_type": "execute_result",
          "data": {
            "text/plain": [
              "array([0., 0., 0., 0., 0., 0., 0., 0., 0., 0.])"
            ]
          },
          "metadata": {},
          "execution_count": 87
        }
      ]
    },
    {
      "cell_type": "code",
      "source": [
        "np.zeros((3, 6))"
      ],
      "metadata": {
        "colab": {
          "base_uri": "https://localhost:8080/"
        },
        "id": "HUjsyEBLDVWn",
        "outputId": "f5d44d9c-2344-4d07-c836-193f81d07df2"
      },
      "execution_count": null,
      "outputs": [
        {
          "output_type": "execute_result",
          "data": {
            "text/plain": [
              "array([[0., 0., 0., 0., 0., 0.],\n",
              "       [0., 0., 0., 0., 0., 0.],\n",
              "       [0., 0., 0., 0., 0., 0.]])"
            ]
          },
          "metadata": {},
          "execution_count": 88
        }
      ]
    },
    {
      "cell_type": "code",
      "source": [
        "np.zeros((2, 3, 2))"
      ],
      "metadata": {
        "colab": {
          "base_uri": "https://localhost:8080/"
        },
        "id": "WG7nDs4dDVgE",
        "outputId": "2ad967c7-6832-47dc-e9b5-8e1e89f42250"
      },
      "execution_count": null,
      "outputs": [
        {
          "output_type": "execute_result",
          "data": {
            "text/plain": [
              "array([[[0., 0.],\n",
              "        [0., 0.],\n",
              "        [0., 0.]],\n",
              "\n",
              "       [[0., 0.],\n",
              "        [0., 0.],\n",
              "        [0., 0.]]])"
            ]
          },
          "metadata": {},
          "execution_count": 89
        }
      ]
    },
    {
      "cell_type": "markdown",
      "source": [
        "arange : 파이썬의 range 함수의 배열 버전"
      ],
      "metadata": {
        "id": "tF4lvKokECww"
      }
    },
    {
      "cell_type": "code",
      "source": [
        "np.arange(15)"
      ],
      "metadata": {
        "colab": {
          "base_uri": "https://localhost:8080/"
        },
        "id": "vlxaaOlXECmN",
        "outputId": "9f6f5ef6-355c-4d0f-9386-78b0d265b827"
      },
      "execution_count": null,
      "outputs": [
        {
          "output_type": "execute_result",
          "data": {
            "text/plain": [
              "array([ 0,  1,  2,  3,  4,  5,  6,  7,  8,  9, 10, 11, 12, 13, 14])"
            ]
          },
          "metadata": {},
          "execution_count": 90
        }
      ]
    },
    {
      "cell_type": "markdown",
      "source": [
        "### 4.1.2 ndarray의dtype"
      ],
      "metadata": {
        "id": "_VwLMCNxECcm"
      }
    },
    {
      "cell_type": "code",
      "source": [
        "arr1 = np.array([1, 2, 3], dtype = np.float64)\n",
        "arr2 = np.array([1, 2, 3], dtype = np.int32)"
      ],
      "metadata": {
        "id": "QqkFenxcECTD"
      },
      "execution_count": null,
      "outputs": []
    },
    {
      "cell_type": "code",
      "source": [
        "arr1.dtype"
      ],
      "metadata": {
        "colab": {
          "base_uri": "https://localhost:8080/"
        },
        "id": "NzGiL-IVDVnL",
        "outputId": "c588ff90-6621-408b-cc57-20ea03f53463"
      },
      "execution_count": null,
      "outputs": [
        {
          "output_type": "execute_result",
          "data": {
            "text/plain": [
              "dtype('float64')"
            ]
          },
          "metadata": {},
          "execution_count": 92
        }
      ]
    },
    {
      "cell_type": "code",
      "source": [
        "arr2.dtype"
      ],
      "metadata": {
        "colab": {
          "base_uri": "https://localhost:8080/"
        },
        "id": "4SgkkUp8EAGO",
        "outputId": "9487d4d9-1915-4a73-b61b-4b4eba12f3b6"
      },
      "execution_count": null,
      "outputs": [
        {
          "output_type": "execute_result",
          "data": {
            "text/plain": [
              "dtype('int32')"
            ]
          },
          "metadata": {},
          "execution_count": 93
        }
      ]
    },
    {
      "cell_type": "markdown",
      "source": [
        "astype : ndarray 배열의 dtype을 다른 형으로 명시적으로 변환"
      ],
      "metadata": {
        "id": "gPx-XJXKEANc"
      }
    },
    {
      "cell_type": "code",
      "source": [
        "arr = np.array([1, 2, 3, 4, 5])\n",
        "arr.dtype"
      ],
      "metadata": {
        "colab": {
          "base_uri": "https://localhost:8080/"
        },
        "id": "R32ByjVWEAVb",
        "outputId": "fdffb925-e821-49f5-c91c-06fc4833c01c"
      },
      "execution_count": null,
      "outputs": [
        {
          "output_type": "execute_result",
          "data": {
            "text/plain": [
              "dtype('int64')"
            ]
          },
          "metadata": {},
          "execution_count": 94
        }
      ]
    },
    {
      "cell_type": "code",
      "source": [
        "float_arr = arr.astype(np.float64)\n",
        "float_arr.dtype"
      ],
      "metadata": {
        "colab": {
          "base_uri": "https://localhost:8080/"
        },
        "id": "wqK3uXpoDV6p",
        "outputId": "10c3aef7-c429-49db-818c-12328b1610d9"
      },
      "execution_count": null,
      "outputs": [
        {
          "output_type": "execute_result",
          "data": {
            "text/plain": [
              "dtype('float64')"
            ]
          },
          "metadata": {},
          "execution_count": 95
        }
      ]
    },
    {
      "cell_type": "code",
      "source": [
        "arr = np.array([3.7, -1.2, -2.6, 0.5, 12.9, 10.1])\n",
        "arr"
      ],
      "metadata": {
        "colab": {
          "base_uri": "https://localhost:8080/"
        },
        "id": "6s94X8uoDWEk",
        "outputId": "3423b949-49d8-49f9-bd5e-a912bc17024a"
      },
      "execution_count": null,
      "outputs": [
        {
          "output_type": "execute_result",
          "data": {
            "text/plain": [
              "array([ 3.7, -1.2, -2.6,  0.5, 12.9, 10.1])"
            ]
          },
          "metadata": {},
          "execution_count": 96
        }
      ]
    },
    {
      "cell_type": "code",
      "source": [
        "arr.astype(np.int32)"
      ],
      "metadata": {
        "colab": {
          "base_uri": "https://localhost:8080/"
        },
        "id": "vcA3Ipy4F2OF",
        "outputId": "2f1b07cd-72c9-4e30-be7b-0327ed88f65e"
      },
      "execution_count": null,
      "outputs": [
        {
          "output_type": "execute_result",
          "data": {
            "text/plain": [
              "array([ 3, -1, -2,  0, 12, 10], dtype=int32)"
            ]
          },
          "metadata": {},
          "execution_count": 97
        }
      ]
    },
    {
      "cell_type": "markdown",
      "source": [
        "**숫자 형식의 문자열**을 담고 있는 배열 -> astype 사용하여 숫자로 변환"
      ],
      "metadata": {
        "id": "WDsM25DgGcCS"
      }
    },
    {
      "cell_type": "code",
      "source": [
        "numeric_strings = np.array(['1.25', '-9.6', '42'], dtype=np.string_)\n",
        "numeric_strings.astype(float)"
      ],
      "metadata": {
        "colab": {
          "base_uri": "https://localhost:8080/"
        },
        "id": "05TWlKRmF2Wj",
        "outputId": "c5dc131d-710c-4b1e-dd02-72c35b8fe767"
      },
      "execution_count": null,
      "outputs": [
        {
          "output_type": "execute_result",
          "data": {
            "text/plain": [
              "array([ 1.25, -9.6 , 42.  ])"
            ]
          },
          "metadata": {},
          "execution_count": 98
        }
      ]
    },
    {
      "cell_type": "code",
      "source": [
        "int_array = np.arange(10)"
      ],
      "metadata": {
        "id": "ZeuI4pk1GsJ0"
      },
      "execution_count": null,
      "outputs": []
    },
    {
      "cell_type": "code",
      "source": [
        "calibers = np.array([.22, .270, .357, .280, .44, .50], dtype = np.float64)"
      ],
      "metadata": {
        "id": "4RLfye0xGsAZ"
      },
      "execution_count": null,
      "outputs": []
    },
    {
      "cell_type": "code",
      "source": [
        "int_array.astype(calibers.dtype)"
      ],
      "metadata": {
        "colab": {
          "base_uri": "https://localhost:8080/"
        },
        "id": "3cr8Bj01Gr3F",
        "outputId": "2a2b70c1-7ab5-40d7-a4fe-3694beb8cd37"
      },
      "execution_count": null,
      "outputs": [
        {
          "output_type": "execute_result",
          "data": {
            "text/plain": [
              "array([0., 1., 2., 3., 4., 5., 6., 7., 8., 9.])"
            ]
          },
          "metadata": {},
          "execution_count": 101
        }
      ]
    },
    {
      "cell_type": "markdown",
      "source": [
        "dtype으로 사용할 수 있는 축약 코드"
      ],
      "metadata": {
        "id": "0GfPuhOtJPQh"
      }
    },
    {
      "cell_type": "code",
      "source": [
        "empty_unit32 = np.empty(8, dtype = 'u4')\n",
        "empty_unit32"
      ],
      "metadata": {
        "colab": {
          "base_uri": "https://localhost:8080/"
        },
        "id": "0ZVXjZvQJPGj",
        "outputId": "fcc9ba34-9a68-46dd-bad6-147aeb92c307"
      },
      "execution_count": null,
      "outputs": [
        {
          "output_type": "execute_result",
          "data": {
            "text/plain": [
              "array([         0, 1075314688,          0, 1075707904,          0,\n",
              "       1075838976,          0, 1072693248], dtype=uint32)"
            ]
          },
          "metadata": {},
          "execution_count": 102
        }
      ]
    },
    {
      "cell_type": "markdown",
      "source": [
        "### 4.1.3 NumPy 배열의 산술 연산\n"
      ],
      "metadata": {
        "id": "ACZX6CpRJO-R"
      }
    },
    {
      "cell_type": "markdown",
      "source": [
        "**벡터화** : for문을 작성하지 않고 데이터를 일괄 처리할 수 있다.\n",
        "* 같은 크기의 배열 간의 산술 연산은 배열의 각 원소 단위로 적용"
      ],
      "metadata": {
        "id": "tOo4LhgVJO2l"
      }
    },
    {
      "cell_type": "code",
      "source": [
        "arr = np.array([[1., 2., 3.], [4., 5., 6.]])\n",
        "arr"
      ],
      "metadata": {
        "colab": {
          "base_uri": "https://localhost:8080/"
        },
        "id": "8f50oIAVGrtj",
        "outputId": "69e43fa6-aef8-4fc7-f1d3-247ec2af10b0"
      },
      "execution_count": null,
      "outputs": [
        {
          "output_type": "execute_result",
          "data": {
            "text/plain": [
              "array([[1., 2., 3.],\n",
              "       [4., 5., 6.]])"
            ]
          },
          "metadata": {},
          "execution_count": 103
        }
      ]
    },
    {
      "cell_type": "code",
      "source": [
        "arr + arr"
      ],
      "metadata": {
        "colab": {
          "base_uri": "https://localhost:8080/"
        },
        "id": "BbHOyO8wGrjD",
        "outputId": "2e5a71c1-ed18-4c96-a384-eea5d3f64a84"
      },
      "execution_count": null,
      "outputs": [
        {
          "output_type": "execute_result",
          "data": {
            "text/plain": [
              "array([[ 2.,  4.,  6.],\n",
              "       [ 8., 10., 12.]])"
            ]
          },
          "metadata": {},
          "execution_count": 104
        }
      ]
    },
    {
      "cell_type": "code",
      "source": [
        "arr - arr"
      ],
      "metadata": {
        "colab": {
          "base_uri": "https://localhost:8080/"
        },
        "id": "3Uke4F11GrWu",
        "outputId": "53d8a7b6-df41-4fc8-bc57-5e2716ed16f2"
      },
      "execution_count": null,
      "outputs": [
        {
          "output_type": "execute_result",
          "data": {
            "text/plain": [
              "array([[0., 0., 0.],\n",
              "       [0., 0., 0.]])"
            ]
          },
          "metadata": {},
          "execution_count": 105
        }
      ]
    },
    {
      "cell_type": "markdown",
      "source": [
        "스칼라 인자가 포함된 산술 연산의 경우 배열 내의 모든 원소에 **스칼라 인자가 적용됨**"
      ],
      "metadata": {
        "id": "pDgmSPQZF2e6"
      }
    },
    {
      "cell_type": "code",
      "source": [
        "1/arr"
      ],
      "metadata": {
        "colab": {
          "base_uri": "https://localhost:8080/"
        },
        "id": "lcJCcjY1F2nr",
        "outputId": "19aee674-70b3-40b1-85da-c06eb41a536c"
      },
      "execution_count": null,
      "outputs": [
        {
          "output_type": "execute_result",
          "data": {
            "text/plain": [
              "array([[1.        , 0.5       , 0.33333333],\n",
              "       [0.25      , 0.2       , 0.16666667]])"
            ]
          },
          "metadata": {},
          "execution_count": 106
        }
      ]
    },
    {
      "cell_type": "code",
      "source": [
        "arr ** 0.5"
      ],
      "metadata": {
        "colab": {
          "base_uri": "https://localhost:8080/"
        },
        "id": "6mxobw_xF2wu",
        "outputId": "fc03954e-fa90-43f0-9445-781f5bcba93c"
      },
      "execution_count": null,
      "outputs": [
        {
          "output_type": "execute_result",
          "data": {
            "text/plain": [
              "array([[1.        , 1.41421356, 1.73205081],\n",
              "       [2.        , 2.23606798, 2.44948974]])"
            ]
          },
          "metadata": {},
          "execution_count": 107
        }
      ]
    },
    {
      "cell_type": "markdown",
      "source": [
        "같은 크기를 가지는 배열 간의 비교 연산은 **불리언 배열을 반환**"
      ],
      "metadata": {
        "id": "yYJ9c_uVF26W"
      }
    },
    {
      "cell_type": "code",
      "source": [
        "arr2 = np.array([[0., 4., 1.], [7., 2., 12.]])\n",
        "arr2"
      ],
      "metadata": {
        "colab": {
          "base_uri": "https://localhost:8080/"
        },
        "id": "BlJir3TZMfqc",
        "outputId": "af2230cb-227d-4943-8d5b-869463a86d53"
      },
      "execution_count": null,
      "outputs": [
        {
          "output_type": "execute_result",
          "data": {
            "text/plain": [
              "array([[ 0.,  4.,  1.],\n",
              "       [ 7.,  2., 12.]])"
            ]
          },
          "metadata": {},
          "execution_count": 108
        }
      ]
    },
    {
      "cell_type": "code",
      "source": [
        "arr2 > arr"
      ],
      "metadata": {
        "colab": {
          "base_uri": "https://localhost:8080/"
        },
        "id": "2YH6jxqVMfxp",
        "outputId": "d1eb2817-67e8-4033-9b89-de276501768f"
      },
      "execution_count": null,
      "outputs": [
        {
          "output_type": "execute_result",
          "data": {
            "text/plain": [
              "array([[False,  True, False],\n",
              "       [ True, False,  True]])"
            ]
          },
          "metadata": {},
          "execution_count": 109
        }
      ]
    },
    {
      "cell_type": "markdown",
      "source": [
        "**브로드캐스팅 broadcasting**\n",
        "\n",
        ": 크기가 다른 배열 간의 연산"
      ],
      "metadata": {
        "id": "gYiTHY3aMy_b"
      }
    },
    {
      "cell_type": "markdown",
      "source": [
        "### 4.1.4 색인과 슬라이싱 기초"
      ],
      "metadata": {
        "id": "uwLjJ-0nMy3R"
      }
    },
    {
      "cell_type": "markdown",
      "source": [
        "1차원 배열 : 표면적으로는 파이썬의 리스트와 유사하게 동작"
      ],
      "metadata": {
        "id": "Blu8vqXcMyu_"
      }
    },
    {
      "cell_type": "code",
      "source": [
        "arr = np.arange(10)\n",
        "arr"
      ],
      "metadata": {
        "colab": {
          "base_uri": "https://localhost:8080/"
        },
        "id": "wRytyjO6MynE",
        "outputId": "7c070358-a86f-42b3-92b9-32684ef8fc1c"
      },
      "execution_count": null,
      "outputs": [
        {
          "output_type": "execute_result",
          "data": {
            "text/plain": [
              "array([0, 1, 2, 3, 4, 5, 6, 7, 8, 9])"
            ]
          },
          "metadata": {},
          "execution_count": 110
        }
      ]
    },
    {
      "cell_type": "code",
      "source": [
        "arr[5]"
      ],
      "metadata": {
        "colab": {
          "base_uri": "https://localhost:8080/"
        },
        "id": "7-5mMEGEMyf-",
        "outputId": "c8c2b738-898c-416a-a0c8-57f76e1f2011"
      },
      "execution_count": null,
      "outputs": [
        {
          "output_type": "execute_result",
          "data": {
            "text/plain": [
              "5"
            ]
          },
          "metadata": {},
          "execution_count": 111
        }
      ]
    },
    {
      "cell_type": "code",
      "source": [
        "arr[5:8]"
      ],
      "metadata": {
        "colab": {
          "base_uri": "https://localhost:8080/"
        },
        "id": "MCStGpqwMyY_",
        "outputId": "263ae8fa-7438-4f83-cccc-9fb5ad36b688"
      },
      "execution_count": null,
      "outputs": [
        {
          "output_type": "execute_result",
          "data": {
            "text/plain": [
              "array([5, 6, 7])"
            ]
          },
          "metadata": {},
          "execution_count": 112
        }
      ]
    },
    {
      "cell_type": "code",
      "source": [
        "arr[5:8] = 12"
      ],
      "metadata": {
        "id": "8W1Cf-KPMf6n"
      },
      "execution_count": null,
      "outputs": []
    },
    {
      "cell_type": "code",
      "source": [
        "arr"
      ],
      "metadata": {
        "colab": {
          "base_uri": "https://localhost:8080/"
        },
        "id": "T0A6mZ-EMgFK",
        "outputId": "1ec8f0b3-b4c6-4eaa-a049-cd0a0a4d43a4"
      },
      "execution_count": null,
      "outputs": [
        {
          "output_type": "execute_result",
          "data": {
            "text/plain": [
              "array([ 0,  1,  2,  3,  4, 12, 12, 12,  8,  9])"
            ]
          },
          "metadata": {},
          "execution_count": 114
        }
      ]
    },
    {
      "cell_type": "markdown",
      "source": [
        "arr[5:8] = 12 처럼 배열 조각에 스칼라 값을 대입하면 12가 선택 영역 전체로 전파(or 브로드캐스팅)된다.\n",
        "\n",
        "* 리스트와의 중요한 차이점 : 배열 조각은 원본 배열의 뷰라는 점\n",
        "\n",
        "→ 데이터는 복사되지 않고, 뷰에 대한 변경은 그대로 원본 배열에 반영된다."
      ],
      "metadata": {
        "id": "iETFNuGrF3FV"
      }
    },
    {
      "cell_type": "code",
      "source": [
        "arr_slice = arr[5:8]\n",
        "arr_slice\n"
      ],
      "metadata": {
        "colab": {
          "base_uri": "https://localhost:8080/"
        },
        "id": "qs3QEpxfDWM8",
        "outputId": "6ecdc020-09ad-45a0-b242-154b71d58a98"
      },
      "execution_count": null,
      "outputs": [
        {
          "output_type": "execute_result",
          "data": {
            "text/plain": [
              "array([12, 12, 12])"
            ]
          },
          "metadata": {},
          "execution_count": 115
        }
      ]
    },
    {
      "cell_type": "markdown",
      "source": [
        "arr_slice의 값을 변경하면 원래 배열인 arr의 값도 변경됨"
      ],
      "metadata": {
        "id": "duELIGB-Ox19"
      }
    },
    {
      "cell_type": "code",
      "source": [
        "arr_slice[1] = 12345\n",
        "arr"
      ],
      "metadata": {
        "colab": {
          "base_uri": "https://localhost:8080/"
        },
        "id": "mXUOJbjJDWWi",
        "outputId": "26ae93a1-47d7-41c8-d2bd-efe913bceed9"
      },
      "execution_count": null,
      "outputs": [
        {
          "output_type": "execute_result",
          "data": {
            "text/plain": [
              "array([    0,     1,     2,     3,     4,    12, 12345,    12,     8,\n",
              "           9])"
            ]
          },
          "metadata": {},
          "execution_count": 116
        }
      ]
    },
    {
      "cell_type": "markdown",
      "source": [
        "[:] 로 슬라이스를 하면 배열의 모든 값 할당"
      ],
      "metadata": {
        "id": "dwrdVU6WOsnG"
      }
    },
    {
      "cell_type": "code",
      "source": [
        "arr_slice[:] = 64\n",
        "arr"
      ],
      "metadata": {
        "colab": {
          "base_uri": "https://localhost:8080/"
        },
        "id": "kjwgofeMOsdF",
        "outputId": "a00f7394-3e0d-4e93-d8f6-1da68c55d6f6"
      },
      "execution_count": null,
      "outputs": [
        {
          "output_type": "execute_result",
          "data": {
            "text/plain": [
              "array([ 0,  1,  2,  3,  4, 64, 64, 64,  8,  9])"
            ]
          },
          "metadata": {},
          "execution_count": 117
        }
      ]
    },
    {
      "cell_type": "code",
      "source": [
        "arr2d = np.array([[1,2,3], [4,5,6], [7,8,9]])\n",
        "arr2d[2]"
      ],
      "metadata": {
        "colab": {
          "base_uri": "https://localhost:8080/"
        },
        "id": "tP6zkHyMOsTc",
        "outputId": "3b49053b-95f9-46e5-d5f2-50ca4257fd41"
      },
      "execution_count": null,
      "outputs": [
        {
          "output_type": "execute_result",
          "data": {
            "text/plain": [
              "array([7, 8, 9])"
            ]
          },
          "metadata": {},
          "execution_count": 118
        }
      ]
    },
    {
      "cell_type": "code",
      "source": [
        "arr2d[0][2]"
      ],
      "metadata": {
        "colab": {
          "base_uri": "https://localhost:8080/"
        },
        "id": "n8GcvkZ_OsK_",
        "outputId": "7c0adc1f-969f-4de2-dbb3-f355573dda11"
      },
      "execution_count": null,
      "outputs": [
        {
          "output_type": "execute_result",
          "data": {
            "text/plain": [
              "3"
            ]
          },
          "metadata": {},
          "execution_count": 119
        }
      ]
    },
    {
      "cell_type": "code",
      "source": [
        "arr2d[0, 2]"
      ],
      "metadata": {
        "colab": {
          "base_uri": "https://localhost:8080/"
        },
        "id": "ellNtdLWOsCh",
        "outputId": "522e07d4-5926-4c8a-dc61-3c8ef3c81383"
      },
      "execution_count": null,
      "outputs": [
        {
          "output_type": "execute_result",
          "data": {
            "text/plain": [
              "3"
            ]
          },
          "metadata": {},
          "execution_count": 120
        }
      ]
    },
    {
      "cell_type": "markdown",
      "source": [
        "2 X 2 X 3 크기의 배열"
      ],
      "metadata": {
        "id": "HB4DycjaPpl2"
      }
    },
    {
      "cell_type": "code",
      "source": [
        "arr3d = np.array([[[1,2,3], [4,5,6]], [[7,8,9], [10,11,12]]])\n",
        "arr3d"
      ],
      "metadata": {
        "colab": {
          "base_uri": "https://localhost:8080/"
        },
        "id": "mmUKkkd6Or5p",
        "outputId": "d11481c5-f2a0-419b-9632-d132d5112cc8"
      },
      "execution_count": null,
      "outputs": [
        {
          "output_type": "execute_result",
          "data": {
            "text/plain": [
              "array([[[ 1,  2,  3],\n",
              "        [ 4,  5,  6]],\n",
              "\n",
              "       [[ 7,  8,  9],\n",
              "        [10, 11, 12]]])"
            ]
          },
          "metadata": {},
          "execution_count": 121
        }
      ]
    },
    {
      "cell_type": "code",
      "source": [
        "# arr3d[0]은 2 X 3 크기의 배열\n",
        "arr3d[0]"
      ],
      "metadata": {
        "colab": {
          "base_uri": "https://localhost:8080/"
        },
        "id": "QdBDOcBQOryc",
        "outputId": "8e6048ae-c6b1-415d-f43d-f32b189d4553"
      },
      "execution_count": null,
      "outputs": [
        {
          "output_type": "execute_result",
          "data": {
            "text/plain": [
              "array([[1, 2, 3],\n",
              "       [4, 5, 6]])"
            ]
          },
          "metadata": {},
          "execution_count": 122
        }
      ]
    },
    {
      "cell_type": "code",
      "source": [
        "#arr3d[0]에는 스칼라값과 배열 모두 대입 가능\n",
        "old_values = arr3d[0].copy()\n",
        "arr3d[0] = 42"
      ],
      "metadata": {
        "id": "-IhJa92VOrpY"
      },
      "execution_count": null,
      "outputs": []
    },
    {
      "cell_type": "code",
      "source": [
        "arr3d"
      ],
      "metadata": {
        "colab": {
          "base_uri": "https://localhost:8080/"
        },
        "id": "9wxNLJ-RQJvW",
        "outputId": "263eda0f-b7f1-479a-bef6-c71b442dea89"
      },
      "execution_count": null,
      "outputs": [
        {
          "output_type": "execute_result",
          "data": {
            "text/plain": [
              "array([[[42, 42, 42],\n",
              "        [42, 42, 42]],\n",
              "\n",
              "       [[ 7,  8,  9],\n",
              "        [10, 11, 12]]])"
            ]
          },
          "metadata": {},
          "execution_count": 124
        }
      ]
    },
    {
      "cell_type": "code",
      "source": [
        "arr3d[0] = old_values\n",
        "arr3d"
      ],
      "metadata": {
        "colab": {
          "base_uri": "https://localhost:8080/"
        },
        "id": "WuLmuZMBQLAG",
        "outputId": "ae50d972-f680-4727-b4dc-2dbe17ef6683"
      },
      "execution_count": null,
      "outputs": [
        {
          "output_type": "execute_result",
          "data": {
            "text/plain": [
              "array([[[ 1,  2,  3],\n",
              "        [ 4,  5,  6]],\n",
              "\n",
              "       [[ 7,  8,  9],\n",
              "        [10, 11, 12]]])"
            ]
          },
          "metadata": {},
          "execution_count": 125
        }
      ]
    },
    {
      "cell_type": "code",
      "source": [
        "arr3d[1, 0]"
      ],
      "metadata": {
        "colab": {
          "base_uri": "https://localhost:8080/"
        },
        "id": "TjGYWKS7QXpe",
        "outputId": "ba7e40ce-9131-47bd-c8c2-b56f9a50840a"
      },
      "execution_count": null,
      "outputs": [
        {
          "output_type": "execute_result",
          "data": {
            "text/plain": [
              "array([7, 8, 9])"
            ]
          },
          "metadata": {},
          "execution_count": 126
        }
      ]
    },
    {
      "cell_type": "code",
      "source": [
        "x = arr3d[1]\n",
        "x"
      ],
      "metadata": {
        "colab": {
          "base_uri": "https://localhost:8080/"
        },
        "id": "xtZo4MDmQXft",
        "outputId": "107ddada-2e69-47ab-f791-d12d8c3f6dab"
      },
      "execution_count": null,
      "outputs": [
        {
          "output_type": "execute_result",
          "data": {
            "text/plain": [
              "array([[ 7,  8,  9],\n",
              "       [10, 11, 12]])"
            ]
          },
          "metadata": {},
          "execution_count": 127
        }
      ]
    },
    {
      "cell_type": "code",
      "source": [
        "x[0]"
      ],
      "metadata": {
        "colab": {
          "base_uri": "https://localhost:8080/"
        },
        "id": "bttNiWIOQXX3",
        "outputId": "4e4ee6c7-30c9-40e7-9c49-75c45f10faed"
      },
      "execution_count": null,
      "outputs": [
        {
          "output_type": "execute_result",
          "data": {
            "text/plain": [
              "array([7, 8, 9])"
            ]
          },
          "metadata": {},
          "execution_count": 128
        }
      ]
    },
    {
      "cell_type": "markdown",
      "source": [
        "**슬라이스 선택**"
      ],
      "metadata": {
        "id": "ID01A5qMQgo3"
      }
    },
    {
      "cell_type": "code",
      "source": [
        "arr"
      ],
      "metadata": {
        "colab": {
          "base_uri": "https://localhost:8080/"
        },
        "id": "-_yDZD_jQggd",
        "outputId": "2e8d424b-4fd9-4644-87cc-7dae8cccda15"
      },
      "execution_count": null,
      "outputs": [
        {
          "output_type": "execute_result",
          "data": {
            "text/plain": [
              "array([ 0,  1,  2,  3,  4, 64, 64, 64,  8,  9])"
            ]
          },
          "metadata": {},
          "execution_count": 129
        }
      ]
    },
    {
      "cell_type": "code",
      "source": [
        "arr[1:6]"
      ],
      "metadata": {
        "colab": {
          "base_uri": "https://localhost:8080/"
        },
        "id": "wKlFBtuOQgZU",
        "outputId": "bd43ba76-1a77-4719-b220-d85fbabefd01"
      },
      "execution_count": null,
      "outputs": [
        {
          "output_type": "execute_result",
          "data": {
            "text/plain": [
              "array([ 1,  2,  3,  4, 64])"
            ]
          },
          "metadata": {},
          "execution_count": 130
        }
      ]
    },
    {
      "cell_type": "code",
      "source": [
        "arr2d"
      ],
      "metadata": {
        "colab": {
          "base_uri": "https://localhost:8080/"
        },
        "id": "-MBwADJVQgSz",
        "outputId": "95beb264-0930-4dac-b6ee-80b2828d9d27"
      },
      "execution_count": null,
      "outputs": [
        {
          "output_type": "execute_result",
          "data": {
            "text/plain": [
              "array([[1, 2, 3],\n",
              "       [4, 5, 6],\n",
              "       [7, 8, 9]])"
            ]
          },
          "metadata": {},
          "execution_count": 131
        }
      ]
    },
    {
      "cell_type": "code",
      "source": [
        "arr2d[:2]"
      ],
      "metadata": {
        "colab": {
          "base_uri": "https://localhost:8080/"
        },
        "id": "QhUSc7pGQXQA",
        "outputId": "d8d7ba41-3cc2-4c35-90a7-11a729f5af35"
      },
      "execution_count": null,
      "outputs": [
        {
          "output_type": "execute_result",
          "data": {
            "text/plain": [
              "array([[1, 2, 3],\n",
              "       [4, 5, 6]])"
            ]
          },
          "metadata": {},
          "execution_count": 132
        }
      ]
    },
    {
      "cell_type": "code",
      "source": [
        "arr2d[:2, 1:]"
      ],
      "metadata": {
        "colab": {
          "base_uri": "https://localhost:8080/"
        },
        "id": "H_serqKNQXH7",
        "outputId": "88eb3db9-edad-434b-8194-f4bd59e5cf0e"
      },
      "execution_count": null,
      "outputs": [
        {
          "output_type": "execute_result",
          "data": {
            "text/plain": [
              "array([[2, 3],\n",
              "       [5, 6]])"
            ]
          },
          "metadata": {},
          "execution_count": 133
        }
      ]
    },
    {
      "cell_type": "code",
      "source": [
        "arr2d[:, :1]"
      ],
      "metadata": {
        "colab": {
          "base_uri": "https://localhost:8080/"
        },
        "id": "uot4Miq1QXAu",
        "outputId": "83434bfa-43fd-4bb1-b534-85011d4f2a10"
      },
      "execution_count": null,
      "outputs": [
        {
          "output_type": "execute_result",
          "data": {
            "text/plain": [
              "array([[1],\n",
              "       [4],\n",
              "       [7]])"
            ]
          },
          "metadata": {},
          "execution_count": 134
        }
      ]
    },
    {
      "cell_type": "code",
      "source": [
        "arr2d[:2, 1:] = 0\n",
        "arr2d"
      ],
      "metadata": {
        "colab": {
          "base_uri": "https://localhost:8080/"
        },
        "id": "ASmBA47DQWO5",
        "outputId": "abf9eaf4-bfaa-4914-b722-d85a78225de3"
      },
      "execution_count": null,
      "outputs": [
        {
          "output_type": "execute_result",
          "data": {
            "text/plain": [
              "array([[1, 0, 0],\n",
              "       [4, 0, 0],\n",
              "       [7, 8, 9]])"
            ]
          },
          "metadata": {},
          "execution_count": 135
        }
      ]
    },
    {
      "cell_type": "markdown",
      "source": [
        "### 4.1.5 불리언값으로 선택"
      ],
      "metadata": {
        "id": "TfemYZ7SQWEB"
      }
    },
    {
      "cell_type": "markdown",
      "source": [
        "중복된 이름이 포함된 배열이 있다고 가정. numpy.random 모듈에 있는 randn 함수를 사용하여 임이의 표준 정규 분포 데이터 생성"
      ],
      "metadata": {
        "id": "GzDKyoY1QV7_"
      }
    },
    {
      "cell_type": "code",
      "source": [
        "names = np.array(['Bob', 'Joe', 'Will', 'Bob', 'Will', 'Joe', 'Joe'])\n",
        "data = np.random.randn(7, 4)"
      ],
      "metadata": {
        "id": "Wo5XovxhoO2L"
      },
      "execution_count": null,
      "outputs": []
    },
    {
      "cell_type": "code",
      "source": [
        "names"
      ],
      "metadata": {
        "colab": {
          "base_uri": "https://localhost:8080/"
        },
        "id": "xAJqYRf0oOvo",
        "outputId": "ee117463-db05-4317-e706-9119fd1458a5"
      },
      "execution_count": null,
      "outputs": [
        {
          "output_type": "execute_result",
          "data": {
            "text/plain": [
              "array(['Bob', 'Joe', 'Will', 'Bob', 'Will', 'Joe', 'Joe'], dtype='<U4')"
            ]
          },
          "metadata": {},
          "execution_count": 138
        }
      ]
    },
    {
      "cell_type": "code",
      "source": [
        "data"
      ],
      "metadata": {
        "colab": {
          "base_uri": "https://localhost:8080/"
        },
        "id": "j0uZBnP-oOol",
        "outputId": "aa9fdb83-3ac3-4dd9-d26a-e97b9b4a0966"
      },
      "execution_count": null,
      "outputs": [
        {
          "output_type": "execute_result",
          "data": {
            "text/plain": [
              "array([[ 1.67323194, -0.6802189 ,  1.39728975,  0.35245795],\n",
              "       [-1.79995838, -0.37886632,  1.32325208, -1.18985923],\n",
              "       [ 1.10569676,  0.37916829,  2.11911248, -0.61927728],\n",
              "       [ 1.27122183, -0.25048998, -0.10162065, -0.29813495],\n",
              "       [ 0.78941058, -1.7282758 , -1.30069299, -1.39113076],\n",
              "       [ 0.33390829, -1.21362478, -0.03591778,  0.10295634],\n",
              "       [-1.35470706,  0.09883774,  0.14777282, -0.49057815]])"
            ]
          },
          "metadata": {},
          "execution_count": 139
        }
      ]
    },
    {
      "cell_type": "code",
      "source": [
        "names == 'Bob'"
      ],
      "metadata": {
        "colab": {
          "base_uri": "https://localhost:8080/"
        },
        "id": "QH1lTy4moOhC",
        "outputId": "37cb179a-92fd-4276-cfeb-5895fc7b31ac"
      },
      "execution_count": null,
      "outputs": [
        {
          "output_type": "execute_result",
          "data": {
            "text/plain": [
              "array([ True, False, False,  True, False, False, False])"
            ]
          },
          "metadata": {},
          "execution_count": 140
        }
      ]
    },
    {
      "cell_type": "markdown",
      "source": [
        "불리언 배열은 배열의 색인으로 사용 가능"
      ],
      "metadata": {
        "id": "LZnXIl_Wo278"
      }
    },
    {
      "cell_type": "code",
      "source": [
        "data[names == 'Bob']"
      ],
      "metadata": {
        "colab": {
          "base_uri": "https://localhost:8080/"
        },
        "id": "Os49mPSdo2y2",
        "outputId": "8c87fa0b-4861-4732-a64e-fa85066a3a00"
      },
      "execution_count": null,
      "outputs": [
        {
          "output_type": "execute_result",
          "data": {
            "text/plain": [
              "array([[ 1.67323194, -0.6802189 ,  1.39728975,  0.35245795],\n",
              "       [ 1.27122183, -0.25048998, -0.10162065, -0.29813495]])"
            ]
          },
          "metadata": {},
          "execution_count": 141
        }
      ]
    },
    {
      "cell_type": "markdown",
      "source": [
        "불리언 배열은 반드시 색인하려는 축의 길이와 동일한 길이를 가져야 함."
      ],
      "metadata": {
        "id": "8ziQjHvro2ra"
      }
    },
    {
      "cell_type": "code",
      "source": [
        "data[names == 'Bob', 2:]"
      ],
      "metadata": {
        "colab": {
          "base_uri": "https://localhost:8080/"
        },
        "id": "Hyh_VMx6o2hq",
        "outputId": "5e4773d4-fa2e-4a70-ee2a-143afcc100cb"
      },
      "execution_count": null,
      "outputs": [
        {
          "output_type": "execute_result",
          "data": {
            "text/plain": [
              "array([[ 1.39728975,  0.35245795],\n",
              "       [-0.10162065, -0.29813495]])"
            ]
          },
          "metadata": {},
          "execution_count": 142
        }
      ]
    },
    {
      "cell_type": "markdown",
      "source": [
        "'Bob' 이 아닌 요소들을 선택하려면 != 연산자 사용 or ~를 사용해서 조건절을 부인하면 된다."
      ],
      "metadata": {
        "id": "7Uu3bymbo2bq"
      }
    },
    {
      "cell_type": "code",
      "source": [
        "names != 'Bpb'"
      ],
      "metadata": {
        "colab": {
          "base_uri": "https://localhost:8080/"
        },
        "id": "iNTNcNxLoOaU",
        "outputId": "aa8dcfde-bede-4e95-c363-0bcd98865903"
      },
      "execution_count": null,
      "outputs": [
        {
          "output_type": "execute_result",
          "data": {
            "text/plain": [
              "array([ True,  True,  True,  True,  True,  True,  True])"
            ]
          },
          "metadata": {},
          "execution_count": 143
        }
      ]
    },
    {
      "cell_type": "code",
      "source": [
        "data[~(names == 'Bpb')]"
      ],
      "metadata": {
        "colab": {
          "base_uri": "https://localhost:8080/"
        },
        "id": "Mo6iol-BoOTU",
        "outputId": "7d2d97c8-86b6-4c38-b763-63db28a903b4"
      },
      "execution_count": null,
      "outputs": [
        {
          "output_type": "execute_result",
          "data": {
            "text/plain": [
              "array([[ 1.67323194, -0.6802189 ,  1.39728975,  0.35245795],\n",
              "       [-1.79995838, -0.37886632,  1.32325208, -1.18985923],\n",
              "       [ 1.10569676,  0.37916829,  2.11911248, -0.61927728],\n",
              "       [ 1.27122183, -0.25048998, -0.10162065, -0.29813495],\n",
              "       [ 0.78941058, -1.7282758 , -1.30069299, -1.39113076],\n",
              "       [ 0.33390829, -1.21362478, -0.03591778,  0.10295634],\n",
              "       [-1.35470706,  0.09883774,  0.14777282, -0.49057815]])"
            ]
          },
          "metadata": {},
          "execution_count": 144
        }
      ]
    },
    {
      "cell_type": "code",
      "source": [
        "cond = names == 'Bob'"
      ],
      "metadata": {
        "id": "UAurzgmMp03d"
      },
      "execution_count": null,
      "outputs": []
    },
    {
      "cell_type": "code",
      "source": [
        "data[~cond]"
      ],
      "metadata": {
        "colab": {
          "base_uri": "https://localhost:8080/"
        },
        "id": "9qAp3P-ap0uL",
        "outputId": "ce30523b-91dd-4687-c6c0-b0c14ccf437e"
      },
      "execution_count": null,
      "outputs": [
        {
          "output_type": "execute_result",
          "data": {
            "text/plain": [
              "array([[-1.79995838, -0.37886632,  1.32325208, -1.18985923],\n",
              "       [ 1.10569676,  0.37916829,  2.11911248, -0.61927728],\n",
              "       [ 0.78941058, -1.7282758 , -1.30069299, -1.39113076],\n",
              "       [ 0.33390829, -1.21362478, -0.03591778,  0.10295634],\n",
              "       [-1.35470706,  0.09883774,  0.14777282, -0.49057815]])"
            ]
          },
          "metadata": {},
          "execution_count": 146
        }
      ]
    },
    {
      "cell_type": "markdown",
      "source": [
        "세 가지 이름 중에서 두 가지 이름을 선택하려면 **&(and) 나  |(or)** 같은 논리 연산자를 사용"
      ],
      "metadata": {
        "id": "qvJLH-LQp0kS"
      }
    },
    {
      "cell_type": "code",
      "source": [
        "mask = (names == 'Bob') | (names == 'Will')\n",
        "mask"
      ],
      "metadata": {
        "colab": {
          "base_uri": "https://localhost:8080/"
        },
        "id": "jL5RQWiUp0ad",
        "outputId": "4019629e-d2b5-4a86-a43e-371395295b95"
      },
      "execution_count": null,
      "outputs": [
        {
          "output_type": "execute_result",
          "data": {
            "text/plain": [
              "array([ True, False,  True,  True,  True, False, False])"
            ]
          },
          "metadata": {},
          "execution_count": 148
        }
      ]
    },
    {
      "cell_type": "code",
      "source": [
        "data[mask]"
      ],
      "metadata": {
        "colab": {
          "base_uri": "https://localhost:8080/"
        },
        "id": "Ip61kpbXp0RZ",
        "outputId": "2a14f268-cc09-4c46-9278-36508da7fb4c"
      },
      "execution_count": null,
      "outputs": [
        {
          "output_type": "execute_result",
          "data": {
            "text/plain": [
              "array([[ 1.67323194, -0.6802189 ,  1.39728975,  0.35245795],\n",
              "       [ 1.10569676,  0.37916829,  2.11911248, -0.61927728],\n",
              "       [ 1.27122183, -0.25048998, -0.10162065, -0.29813495],\n",
              "       [ 0.78941058, -1.7282758 , -1.30069299, -1.39113076]])"
            ]
          },
          "metadata": {},
          "execution_count": 149
        }
      ]
    },
    {
      "cell_type": "code",
      "source": [
        "data[data < 0] = 0\n",
        "data"
      ],
      "metadata": {
        "colab": {
          "base_uri": "https://localhost:8080/"
        },
        "id": "ztXm444WqWX-",
        "outputId": "a93cc9e3-fdc3-4326-ab32-f2f1204dde16"
      },
      "execution_count": null,
      "outputs": [
        {
          "output_type": "execute_result",
          "data": {
            "text/plain": [
              "array([[1.67323194, 0.        , 1.39728975, 0.35245795],\n",
              "       [0.        , 0.        , 1.32325208, 0.        ],\n",
              "       [1.10569676, 0.37916829, 2.11911248, 0.        ],\n",
              "       [1.27122183, 0.        , 0.        , 0.        ],\n",
              "       [0.78941058, 0.        , 0.        , 0.        ],\n",
              "       [0.33390829, 0.        , 0.        , 0.10295634],\n",
              "       [0.        , 0.09883774, 0.14777282, 0.        ]])"
            ]
          },
          "metadata": {},
          "execution_count": 150
        }
      ]
    },
    {
      "cell_type": "code",
      "source": [
        "data[names != 'Joe'] = 7\n",
        "data"
      ],
      "metadata": {
        "colab": {
          "base_uri": "https://localhost:8080/"
        },
        "id": "7hiVY9stqWOe",
        "outputId": "1b2b8ae8-9f54-42f4-fbb4-d8d2c541326b"
      },
      "execution_count": null,
      "outputs": [
        {
          "output_type": "execute_result",
          "data": {
            "text/plain": [
              "array([[7.        , 7.        , 7.        , 7.        ],\n",
              "       [0.        , 0.        , 1.32325208, 0.        ],\n",
              "       [7.        , 7.        , 7.        , 7.        ],\n",
              "       [7.        , 7.        , 7.        , 7.        ],\n",
              "       [7.        , 7.        , 7.        , 7.        ],\n",
              "       [0.33390829, 0.        , 0.        , 0.10295634],\n",
              "       [0.        , 0.09883774, 0.14777282, 0.        ]])"
            ]
          },
          "metadata": {},
          "execution_count": 151
        }
      ]
    },
    {
      "cell_type": "markdown",
      "source": [
        "### 4.1.6 팬시 색인"
      ],
      "metadata": {
        "id": "4nVmXxq9qiZs"
      }
    },
    {
      "cell_type": "markdown",
      "source": [
        "**팬시 색인** fancy indexing\n",
        "\n",
        ": 정수 배열을 사용한 색인 설명하기 위해 NumPy에서 차용한 단어"
      ],
      "metadata": {
        "id": "8m9ha2diqWFD"
      }
    },
    {
      "cell_type": "code",
      "source": [
        "arr = np.empty((8,4))"
      ],
      "metadata": {
        "id": "MzduVZi2qV-B"
      },
      "execution_count": null,
      "outputs": []
    },
    {
      "cell_type": "code",
      "source": [
        "for i in range(8):\n",
        "    arr[i] = i"
      ],
      "metadata": {
        "id": "0JrmIj8up0KP"
      },
      "execution_count": null,
      "outputs": []
    },
    {
      "cell_type": "code",
      "source": [
        "arr"
      ],
      "metadata": {
        "colab": {
          "base_uri": "https://localhost:8080/"
        },
        "id": "cPKOdi8loOM8",
        "outputId": "77f3a971-eef9-4d9a-99a5-688d75dced5f"
      },
      "execution_count": null,
      "outputs": [
        {
          "output_type": "execute_result",
          "data": {
            "text/plain": [
              "array([[0., 0., 0., 0.],\n",
              "       [1., 1., 1., 1.],\n",
              "       [2., 2., 2., 2.],\n",
              "       [3., 3., 3., 3.],\n",
              "       [4., 4., 4., 4.],\n",
              "       [5., 5., 5., 5.],\n",
              "       [6., 6., 6., 6.],\n",
              "       [7., 7., 7., 7.]])"
            ]
          },
          "metadata": {},
          "execution_count": 154
        }
      ]
    },
    {
      "cell_type": "markdown",
      "source": [
        "특정한 순서로 로우 선택 시\n",
        "\n",
        ": 원하는 순서가 명시된 정수가 담긴 ndarray나 리스트 넘기면 된다."
      ],
      "metadata": {
        "id": "N34ASnvqrDo2"
      }
    },
    {
      "cell_type": "code",
      "source": [
        "arr[[4, 3, 0, 6]]"
      ],
      "metadata": {
        "colab": {
          "base_uri": "https://localhost:8080/"
        },
        "id": "5fw8k_sWrDfq",
        "outputId": "b5ade495-caa2-4a2b-f62b-5193869d889b"
      },
      "execution_count": null,
      "outputs": [
        {
          "output_type": "execute_result",
          "data": {
            "text/plain": [
              "array([[4., 4., 4., 4.],\n",
              "       [3., 3., 3., 3.],\n",
              "       [0., 0., 0., 0.],\n",
              "       [6., 6., 6., 6.]])"
            ]
          },
          "metadata": {},
          "execution_count": 155
        }
      ]
    },
    {
      "cell_type": "markdown",
      "source": [
        "색인으로 음수 사용 시 끝에서부터 로우 선택"
      ],
      "metadata": {
        "id": "5ot8nHufrmF2"
      }
    },
    {
      "cell_type": "code",
      "source": [
        "arr[[-3, -5, -7]]"
      ],
      "metadata": {
        "colab": {
          "base_uri": "https://localhost:8080/"
        },
        "id": "SKSjyhZGrDWg",
        "outputId": "c19f4f73-d88c-4712-9498-b3830ba15ffd"
      },
      "execution_count": null,
      "outputs": [
        {
          "output_type": "execute_result",
          "data": {
            "text/plain": [
              "array([[5., 5., 5., 5.],\n",
              "       [3., 3., 3., 3.],\n",
              "       [1., 1., 1., 1.]])"
            ]
          },
          "metadata": {},
          "execution_count": 158
        }
      ]
    },
    {
      "cell_type": "code",
      "source": [
        "arr = np.arange(32).reshape((8, 4))\n",
        "arr"
      ],
      "metadata": {
        "colab": {
          "base_uri": "https://localhost:8080/"
        },
        "id": "jKwtOwePrDNe",
        "outputId": "80d26b6b-b2bf-41ca-d82d-df1c405d013a"
      },
      "execution_count": null,
      "outputs": [
        {
          "output_type": "execute_result",
          "data": {
            "text/plain": [
              "array([[ 0,  1,  2,  3],\n",
              "       [ 4,  5,  6,  7],\n",
              "       [ 8,  9, 10, 11],\n",
              "       [12, 13, 14, 15],\n",
              "       [16, 17, 18, 19],\n",
              "       [20, 21, 22, 23],\n",
              "       [24, 25, 26, 27],\n",
              "       [28, 29, 30, 31]])"
            ]
          },
          "metadata": {},
          "execution_count": 161
        }
      ]
    },
    {
      "cell_type": "code",
      "source": [
        "arr[[1, 5, 7, 2], [0, 3, 1, 2]]"
      ],
      "metadata": {
        "colab": {
          "base_uri": "https://localhost:8080/"
        },
        "id": "Uw3EhwPGQV0k",
        "outputId": "92ae890a-d609-4884-ade8-906feb0a95ea"
      },
      "execution_count": null,
      "outputs": [
        {
          "output_type": "execute_result",
          "data": {
            "text/plain": [
              "array([ 4, 23, 29, 10])"
            ]
          },
          "metadata": {},
          "execution_count": 162
        }
      ]
    },
    {
      "cell_type": "code",
      "source": [
        "arr[[1, 5, 7, 2]][:, [0, 3, 1, 2]]"
      ],
      "metadata": {
        "colab": {
          "base_uri": "https://localhost:8080/"
        },
        "id": "U1JkESnrQVsR",
        "outputId": "02b7d383-ec9f-4f18-fd88-2cefdb069ec2"
      },
      "execution_count": null,
      "outputs": [
        {
          "output_type": "execute_result",
          "data": {
            "text/plain": [
              "array([[ 4,  7,  5,  6],\n",
              "       [20, 23, 21, 22],\n",
              "       [28, 31, 29, 30],\n",
              "       [ 8, 11,  9, 10]])"
            ]
          },
          "metadata": {},
          "execution_count": 163
        }
      ]
    },
    {
      "cell_type": "markdown",
      "source": [
        "### 4.1.7 배열 전치와 축 바꾸기"
      ],
      "metadata": {
        "id": "isTu1AshsvuK"
      }
    },
    {
      "cell_type": "code",
      "source": [
        "arr = np.arange(15).reshape((3, 5))\n",
        "arr"
      ],
      "metadata": {
        "colab": {
          "base_uri": "https://localhost:8080/"
        },
        "id": "YVvW3w9Qsvmz",
        "outputId": "2972e9c2-ff43-4a98-c3af-cff6f0a49f0a"
      },
      "execution_count": null,
      "outputs": [
        {
          "output_type": "execute_result",
          "data": {
            "text/plain": [
              "array([[ 0,  1,  2,  3,  4],\n",
              "       [ 5,  6,  7,  8,  9],\n",
              "       [10, 11, 12, 13, 14]])"
            ]
          },
          "metadata": {},
          "execution_count": 164
        }
      ]
    },
    {
      "cell_type": "code",
      "source": [
        "arr.T"
      ],
      "metadata": {
        "colab": {
          "base_uri": "https://localhost:8080/"
        },
        "id": "oMOWrDmZQVkw",
        "outputId": "d3ac2b4d-34f5-4bbc-9d6e-78000d2a34a9"
      },
      "execution_count": null,
      "outputs": [
        {
          "output_type": "execute_result",
          "data": {
            "text/plain": [
              "array([[ 0,  5, 10],\n",
              "       [ 1,  6, 11],\n",
              "       [ 2,  7, 12],\n",
              "       [ 3,  8, 13],\n",
              "       [ 4,  9, 14]])"
            ]
          },
          "metadata": {},
          "execution_count": 165
        }
      ]
    },
    {
      "cell_type": "code",
      "source": [
        "arr = np.random.randn(6, 3)\n",
        "arr"
      ],
      "metadata": {
        "colab": {
          "base_uri": "https://localhost:8080/"
        },
        "id": "oa2gxbU4s7ro",
        "outputId": "eb2ce916-0ca7-4fd4-8a2a-ca7d1f6ae1e0"
      },
      "execution_count": null,
      "outputs": [
        {
          "output_type": "execute_result",
          "data": {
            "text/plain": [
              "array([[ 1.46758568, -1.3102451 , -0.78925236],\n",
              "       [-0.65120791,  1.46256788, -0.32972101],\n",
              "       [-0.97296048, -0.36587565, -2.34674138],\n",
              "       [-0.41639414, -1.33269374, -0.82615332],\n",
              "       [ 0.27543287,  0.33160898,  0.65551572],\n",
              "       [ 1.26626666, -0.33305895, -0.33520754]])"
            ]
          },
          "metadata": {},
          "execution_count": 167
        }
      ]
    },
    {
      "cell_type": "code",
      "source": [
        "np.dot(arr.T, arr)"
      ],
      "metadata": {
        "colab": {
          "base_uri": "https://localhost:8080/"
        },
        "id": "xHJa3C4Xs7iA",
        "outputId": "50ea6277-b6f4-4e03-e1b5-cc7ba85fe1cb"
      },
      "execution_count": null,
      "outputs": [
        {
          "output_type": "execute_result",
          "data": {
            "text/plain": [
              "array([[ 5.37721017, -2.29482973,  1.43980193],\n",
              "       [-2.29482973,  5.9866774 ,  2.84051835],\n",
              "       [ 1.43980193,  2.84051835,  7.4634246 ]])"
            ]
          },
          "metadata": {},
          "execution_count": 168
        }
      ]
    },
    {
      "cell_type": "markdown",
      "source": [
        "다차원 배열의 경우 transpose 메서드는 튜플로 축 번호를 받아서 치환"
      ],
      "metadata": {
        "id": "yB1-jiG2tQ2f"
      }
    },
    {
      "cell_type": "code",
      "source": [
        "arr = np.arange(16).reshape((2, 2, 4))\n",
        "arr"
      ],
      "metadata": {
        "colab": {
          "base_uri": "https://localhost:8080/"
        },
        "id": "QRVbenoZs7ZF",
        "outputId": "27c91342-c454-4204-8d3d-6e72096b708c"
      },
      "execution_count": null,
      "outputs": [
        {
          "output_type": "execute_result",
          "data": {
            "text/plain": [
              "array([[[ 0,  1,  2,  3],\n",
              "        [ 4,  5,  6,  7]],\n",
              "\n",
              "       [[ 8,  9, 10, 11],\n",
              "        [12, 13, 14, 15]]])"
            ]
          },
          "metadata": {},
          "execution_count": 169
        }
      ]
    },
    {
      "cell_type": "code",
      "source": [
        "arr.transpose((1, 0, 2))"
      ],
      "metadata": {
        "colab": {
          "base_uri": "https://localhost:8080/"
        },
        "id": "dia-O0A_s7QG",
        "outputId": "b2a66b44-1912-4d72-f550-cb1c5b750cdf"
      },
      "execution_count": null,
      "outputs": [
        {
          "output_type": "execute_result",
          "data": {
            "text/plain": [
              "array([[[ 0,  1,  2,  3],\n",
              "        [ 8,  9, 10, 11]],\n",
              "\n",
              "       [[ 4,  5,  6,  7],\n",
              "        [12, 13, 14, 15]]])"
            ]
          },
          "metadata": {},
          "execution_count": 170
        }
      ]
    },
    {
      "cell_type": "markdown",
      "source": [
        "swapaxes : 두 개의 축 번호를 받아서 배열 뒤바꿔줌"
      ],
      "metadata": {
        "id": "9sxJYamVs7G8"
      }
    },
    {
      "cell_type": "code",
      "source": [
        "arr"
      ],
      "metadata": {
        "colab": {
          "base_uri": "https://localhost:8080/"
        },
        "id": "zh-lv4M4QVdU",
        "outputId": "9d3b0628-2a0d-4a3d-9296-62100d346727"
      },
      "execution_count": null,
      "outputs": [
        {
          "output_type": "execute_result",
          "data": {
            "text/plain": [
              "array([[[ 0,  1,  2,  3],\n",
              "        [ 4,  5,  6,  7]],\n",
              "\n",
              "       [[ 8,  9, 10, 11],\n",
              "        [12, 13, 14, 15]]])"
            ]
          },
          "metadata": {},
          "execution_count": 171
        }
      ]
    },
    {
      "cell_type": "code",
      "source": [
        "arr.swapaxes(1, 2)"
      ],
      "metadata": {
        "colab": {
          "base_uri": "https://localhost:8080/"
        },
        "id": "ds4fDKtVQQkG",
        "outputId": "410cafb6-0516-4563-c936-9b52e8b9a973"
      },
      "execution_count": null,
      "outputs": [
        {
          "output_type": "execute_result",
          "data": {
            "text/plain": [
              "array([[[ 0,  4],\n",
              "        [ 1,  5],\n",
              "        [ 2,  6],\n",
              "        [ 3,  7]],\n",
              "\n",
              "       [[ 8, 12],\n",
              "        [ 9, 13],\n",
              "        [10, 14],\n",
              "        [11, 15]]])"
            ]
          },
          "metadata": {},
          "execution_count": 172
        }
      ]
    }
  ]
}