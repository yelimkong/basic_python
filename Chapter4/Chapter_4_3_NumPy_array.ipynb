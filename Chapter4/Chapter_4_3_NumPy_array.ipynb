{
  "nbformat": 4,
  "nbformat_minor": 0,
  "metadata": {
    "colab": {
      "provenance": []
    },
    "kernelspec": {
      "name": "python3",
      "display_name": "Python 3"
    },
    "language_info": {
      "name": "python"
    }
  },
  "cells": [
    {
      "cell_type": "markdown",
      "source": [
        "## 4.3 배열을 이용한 배열지향 프로그래밍"
      ],
      "metadata": {
        "id": "9Y24Vlc3Obyq"
      }
    },
    {
      "cell_type": "markdown",
      "source": [
        "**벡터화** : 배열 연산을 사용해서 반복문을 명시적으로 제거하는 기법\n",
        "\n",
        "**브로드캐스팅** : 아주 강력한 벡터 연산 방법"
      ],
      "metadata": {
        "id": "KcOXKDmFObrp"
      }
    },
    {
      "cell_type": "code",
      "source": [
        "import numpy as np"
      ],
      "metadata": {
        "id": "GVLK0v3fObk3"
      },
      "execution_count": 1,
      "outputs": []
    },
    {
      "cell_type": "code",
      "source": [
        "points = np.arange(-5, 5, 0.01) # -5부터 4.99까지 0.01씩 증가하는 값들의 배열"
      ],
      "metadata": {
        "id": "croZNlQvObd2"
      },
      "execution_count": 3,
      "outputs": []
    },
    {
      "cell_type": "code",
      "source": [
        "# np.meshgrid  : 두 개의 1차원 배열을 받아서 가능한 모든 (x, y) 짝을 만들 수 있는 2차원 배열 두 개 반환\n",
        "xs, ys = np.meshgrid(points,points)"
      ],
      "metadata": {
        "id": "r8qMyNc4Pdj4"
      },
      "execution_count": 7,
      "outputs": []
    },
    {
      "cell_type": "code",
      "source": [
        "ys"
      ],
      "metadata": {
        "colab": {
          "base_uri": "https://localhost:8080/"
        },
        "id": "nYDescWpPdZf",
        "outputId": "f74c8a58-2482-486e-b8be-9da7f363ab67"
      },
      "execution_count": 5,
      "outputs": [
        {
          "output_type": "execute_result",
          "data": {
            "text/plain": [
              "array([[-5.  , -5.  , -5.  , ..., -5.  , -5.  , -5.  ],\n",
              "       [-4.99, -4.99, -4.99, ..., -4.99, -4.99, -4.99],\n",
              "       [-4.98, -4.98, -4.98, ..., -4.98, -4.98, -4.98],\n",
              "       ...,\n",
              "       [ 4.97,  4.97,  4.97, ...,  4.97,  4.97,  4.97],\n",
              "       [ 4.98,  4.98,  4.98, ...,  4.98,  4.98,  4.98],\n",
              "       [ 4.99,  4.99,  4.99, ...,  4.99,  4.99,  4.99]])"
            ]
          },
          "metadata": {},
          "execution_count": 5
        }
      ]
    },
    {
      "cell_type": "code",
      "source": [
        "xs"
      ],
      "metadata": {
        "colab": {
          "base_uri": "https://localhost:8080/"
        },
        "id": "-y23-ZWOPdRX",
        "outputId": "3bbdbec8-77b3-40db-ea40-b2074b28bfe9"
      },
      "execution_count": 6,
      "outputs": [
        {
          "output_type": "execute_result",
          "data": {
            "text/plain": [
              "array([[-5.  , -4.99, -4.98, ...,  4.97,  4.98,  4.99],\n",
              "       [-5.  , -4.99, -4.98, ...,  4.97,  4.98,  4.99],\n",
              "       [-5.  , -4.99, -4.98, ...,  4.97,  4.98,  4.99],\n",
              "       ...,\n",
              "       [-5.  , -4.99, -4.98, ...,  4.97,  4.98,  4.99],\n",
              "       [-5.  , -4.99, -4.98, ...,  4.97,  4.98,  4.99],\n",
              "       [-5.  , -4.99, -4.98, ...,  4.97,  4.98,  4.99]])"
            ]
          },
          "metadata": {},
          "execution_count": 6
        }
      ]
    },
    {
      "cell_type": "code",
      "source": [
        "z = np.sqrt(xs ** 2 + ys **2)\n",
        "z"
      ],
      "metadata": {
        "colab": {
          "base_uri": "https://localhost:8080/"
        },
        "id": "lhpqAzj2PdJ4",
        "outputId": "00d5a499-c764-4581-d979-8e58bb56b684"
      },
      "execution_count": 8,
      "outputs": [
        {
          "output_type": "execute_result",
          "data": {
            "text/plain": [
              "array([[7.07106781, 7.06400028, 7.05693985, ..., 7.04988652, 7.05693985,\n",
              "        7.06400028],\n",
              "       [7.06400028, 7.05692568, 7.04985815, ..., 7.04279774, 7.04985815,\n",
              "        7.05692568],\n",
              "       [7.05693985, 7.04985815, 7.04278354, ..., 7.03571603, 7.04278354,\n",
              "        7.04985815],\n",
              "       ...,\n",
              "       [7.04988652, 7.04279774, 7.03571603, ..., 7.0286414 , 7.03571603,\n",
              "        7.04279774],\n",
              "       [7.05693985, 7.04985815, 7.04278354, ..., 7.03571603, 7.04278354,\n",
              "        7.04985815],\n",
              "       [7.06400028, 7.05692568, 7.04985815, ..., 7.04279774, 7.04985815,\n",
              "        7.05692568]])"
            ]
          },
          "metadata": {},
          "execution_count": 8
        }
      ]
    },
    {
      "cell_type": "markdown",
      "source": [
        "**2차원 배열 시각화**"
      ],
      "metadata": {
        "id": "jk_07Dx9ObXB"
      }
    },
    {
      "cell_type": "code",
      "source": [
        "import matplotlib.pyplot as plt\n",
        "\n",
        "plt.imshow(z, cmap = plt.cm.gray) ; plt.colorbar()\n",
        "plt.title(\"Image plot of $\\sqrt{x^2 + y^2}$ for a grid of values\")"
      ],
      "metadata": {
        "colab": {
          "base_uri": "https://localhost:8080/",
          "height": 480
        },
        "id": "YVaPtA5OObQA",
        "outputId": "6b1a842f-39be-4b57-f843-2aded2c3ce9e"
      },
      "execution_count": 10,
      "outputs": [
        {
          "output_type": "execute_result",
          "data": {
            "text/plain": [
              "Text(0.5, 1.0, 'Image plot of $\\\\sqrt{x^2 + y^2}$ for a grid of values')"
            ]
          },
          "metadata": {},
          "execution_count": 10
        },
        {
          "output_type": "display_data",
          "data": {
            "text/plain": [
              "<Figure size 640x480 with 2 Axes>"
            ],
            "image/png": "[encoded data removed]"
          },
          "metadata": {}
        }
      ]
    },
    {
      "cell_type": "markdown",
      "source": [
        "### 4.3.1 배열 연산으로 조건절 표현하기"
      ],
      "metadata": {
        "id": "TnVU1G5YRjjC"
      }
    },
    {
      "cell_type": "markdown",
      "source": [
        "**numpy.where** : x if 조건 else y 같은 삼항식의 벡터화된 버전"
      ],
      "metadata": {
        "id": "tIfI6ClTRjaz"
      }
    },
    {
      "cell_type": "code",
      "source": [
        "xarr = np.array([1.1, 1.2, 1.3, 1.4, 1.5])\n",
        "yarr = np.array([2.1, 2.2, 2.3, 2.4, 2.5])"
      ],
      "metadata": {
        "id": "fjrAeOrTR4CL"
      },
      "execution_count": 14,
      "outputs": []
    },
    {
      "cell_type": "code",
      "source": [
        "cond = np.array([True, False, True, True, False])"
      ],
      "metadata": {
        "id": "80kOItHkR36j"
      },
      "execution_count": 15,
      "outputs": []
    },
    {
      "cell_type": "markdown",
      "source": [
        "cond의 값이 **True**일 때는 xarr의 값을 취하고 아니면 yarr의 값을 취하기"
      ],
      "metadata": {
        "id": "4ZBMe3XaRjTE"
      }
    },
    {
      "cell_type": "code",
      "source": [
        "result = [(x if c else y)\n",
        "          for x, y, c in zip(xarr, yarr, cond)]\n",
        "\n",
        "result"
      ],
      "metadata": {
        "colab": {
          "base_uri": "https://localhost:8080/"
        },
        "id": "efb3unYCObI1",
        "outputId": "97d1f724-8f56-40a1-d0f5-ebfb5613e489"
      },
      "execution_count": 16,
      "outputs": [
        {
          "output_type": "execute_result",
          "data": {
            "text/plain": [
              "[1.1, 2.2, 1.3, 1.4, 2.5]"
            ]
          },
          "metadata": {},
          "execution_count": 16
        }
      ]
    },
    {
      "cell_type": "markdown",
      "source": [
        "**문제점**\n",
        "\n",
        "* 순수 파이썬으로 수행되기 때문에 큰 배열을 빠르게 처리 못 함\n",
        "* 다차원 배열에서는 사용할 수 없음\n",
        "\n",
        "→ **`np.where`** 함수를 사용하면 간결하게 작성 가능"
      ],
      "metadata": {
        "id": "g9cClETtSutx"
      }
    },
    {
      "cell_type": "code",
      "source": [
        "result = np.where(cond, xarr, yarr)\n",
        "result"
      ],
      "metadata": {
        "colab": {
          "base_uri": "https://localhost:8080/"
        },
        "id": "ZertfpzSSulk",
        "outputId": "e8a0923c-0ece-437b-cdde-1f7238d3d182"
      },
      "execution_count": 18,
      "outputs": [
        {
          "output_type": "execute_result",
          "data": {
            "text/plain": [
              "array([1.1, 2.2, 1.3, 1.4, 2.5])"
            ]
          },
          "metadata": {},
          "execution_count": 18
        }
      ]
    },
    {
      "cell_type": "code",
      "source": [
        "arr = np.random.randn(4, 4)\n",
        "arr"
      ],
      "metadata": {
        "colab": {
          "base_uri": "https://localhost:8080/"
        },
        "id": "mRPPc3jOSud1",
        "outputId": "d28030fb-7326-489a-dd1c-34293d373737"
      },
      "execution_count": 20,
      "outputs": [
        {
          "output_type": "execute_result",
          "data": {
            "text/plain": [
              "array([[-0.79834385, -0.8801864 ,  0.42333868,  1.30592863],\n",
              "       [ 1.62294911, -0.34979367,  0.21092384,  1.00750493],\n",
              "       [-0.34681871, -0.86879998,  0.04524692,  1.29229846],\n",
              "       [ 1.40735893,  1.49964303,  0.99123047, -0.63981082]])"
            ]
          },
          "metadata": {},
          "execution_count": 20
        }
      ]
    },
    {
      "cell_type": "code",
      "source": [
        "arr > 0"
      ],
      "metadata": {
        "colab": {
          "base_uri": "https://localhost:8080/"
        },
        "id": "xiqQ_WmtSuWv",
        "outputId": "2f20c813-f768-4d60-e807-660c5bd3e979"
      },
      "execution_count": 21,
      "outputs": [
        {
          "output_type": "execute_result",
          "data": {
            "text/plain": [
              "array([[False, False,  True,  True],\n",
              "       [ True, False,  True,  True],\n",
              "       [False, False,  True,  True],\n",
              "       [ True,  True,  True, False]])"
            ]
          },
          "metadata": {},
          "execution_count": 21
        }
      ]
    },
    {
      "cell_type": "markdown",
      "source": [
        "양수는 2로, 음수는 -2로 반환"
      ],
      "metadata": {
        "id": "zQbgl__DVOq6"
      }
    },
    {
      "cell_type": "code",
      "source": [
        "np.where(arr > 0, 2, -2)"
      ],
      "metadata": {
        "colab": {
          "base_uri": "https://localhost:8080/"
        },
        "id": "mDlCfFfMObBj",
        "outputId": "1bce3172-3645-4618-e9b3-672360112408"
      },
      "execution_count": 22,
      "outputs": [
        {
          "output_type": "execute_result",
          "data": {
            "text/plain": [
              "array([[-2, -2,  2,  2],\n",
              "       [ 2, -2,  2,  2],\n",
              "       [-2, -2,  2,  2],\n",
              "       [ 2,  2,  2, -2]])"
            ]
          },
          "metadata": {},
          "execution_count": 22
        }
      ]
    },
    {
      "cell_type": "code",
      "source": [
        "np.where(arr > 0, 2, arr) # 양수인 경우에만 2를 대입"
      ],
      "metadata": {
        "colab": {
          "base_uri": "https://localhost:8080/"
        },
        "id": "OxPScBkDOa6K",
        "outputId": "3e0f3c69-e213-44c0-ad77-d2fd2a69b2a9"
      },
      "execution_count": 23,
      "outputs": [
        {
          "output_type": "execute_result",
          "data": {
            "text/plain": [
              "array([[-0.79834385, -0.8801864 ,  2.        ,  2.        ],\n",
              "       [ 2.        , -0.34979367,  2.        ,  2.        ],\n",
              "       [-0.34681871, -0.86879998,  2.        ,  2.        ],\n",
              "       [ 2.        ,  2.        ,  2.        , -0.63981082]])"
            ]
          },
          "metadata": {},
          "execution_count": 23
        }
      ]
    },
    {
      "cell_type": "markdown",
      "source": [
        "np.where로 넘기는 배열은 그냥 크기만 같은 배열이거나 스칼라값이 될 수 있다."
      ],
      "metadata": {
        "id": "ipt9dcOaOazz"
      }
    },
    {
      "cell_type": "markdown",
      "source": [
        "### 4.3.2 수학 메서드와 통계 메서드"
      ],
      "metadata": {
        "id": "hmYNtQfaVmDM"
      }
    },
    {
      "cell_type": "markdown",
      "source": [
        "* 배열 전체 or 배열에서 한 축을 따르는 자료에 대한 통계를 계산하는 수학 함수는 배열 메서드로 사용 가능"
      ],
      "metadata": {
        "id": "9r5kEDY5VmKA"
      }
    },
    {
      "cell_type": "code",
      "source": [
        "arr = np.random.randn(5, 4)\n",
        "arr"
      ],
      "metadata": {
        "colab": {
          "base_uri": "https://localhost:8080/"
        },
        "id": "KciSHBRAVmTO",
        "outputId": "19d90795-1d55-4f1d-82b5-320e7fcd422f"
      },
      "execution_count": 25,
      "outputs": [
        {
          "output_type": "execute_result",
          "data": {
            "text/plain": [
              "array([[-1.07576109,  0.27515446,  0.64465941,  0.11524364],\n",
              "       [ 0.08104771, -0.77517043,  0.40877499, -0.48076092],\n",
              "       [-0.01002863, -0.01214141,  0.85257655, -0.82485455],\n",
              "       [-0.78018059,  0.45156239, -0.93879122, -0.3402875 ],\n",
              "       [-0.44583352,  1.04679608,  2.13011702, -0.93350952]])"
            ]
          },
          "metadata": {},
          "execution_count": 25
        }
      ]
    },
    {
      "cell_type": "code",
      "source": [
        "arr.mean()"
      ],
      "metadata": {
        "colab": {
          "base_uri": "https://localhost:8080/"
        },
        "id": "XUFu_J8hWKwe",
        "outputId": "b0dc90f4-25e2-42cd-efe1-90ae9a3e4340"
      },
      "execution_count": 27,
      "outputs": [
        {
          "output_type": "execute_result",
          "data": {
            "text/plain": [
              "-0.030569356590831202"
            ]
          },
          "metadata": {},
          "execution_count": 27
        }
      ]
    },
    {
      "cell_type": "code",
      "source": [
        "np.mean(arr)"
      ],
      "metadata": {
        "colab": {
          "base_uri": "https://localhost:8080/"
        },
        "id": "QFIKugiAWMZs",
        "outputId": "c1957963-69e6-4806-ccf6-fbfdac9e59fa"
      },
      "execution_count": 28,
      "outputs": [
        {
          "output_type": "execute_result",
          "data": {
            "text/plain": [
              "-0.030569356590831202"
            ]
          },
          "metadata": {},
          "execution_count": 28
        }
      ]
    },
    {
      "cell_type": "code",
      "source": [
        "arr.sum()"
      ],
      "metadata": {
        "colab": {
          "base_uri": "https://localhost:8080/"
        },
        "id": "nOJjJRt5Vmo0",
        "outputId": "143aeda0-69f5-423a-f772-7d01c81cbb6a"
      },
      "execution_count": 26,
      "outputs": [
        {
          "output_type": "execute_result",
          "data": {
            "text/plain": [
              "-0.6113871318166241"
            ]
          },
          "metadata": {},
          "execution_count": 26
        }
      ]
    },
    {
      "cell_type": "markdown",
      "source": [
        "mean이나 sum 과 같은 함수는 선택적으로 axis 인자를 받아서 해당 axis에 대한 통계를 계산하고 한 차수 낮은 배열을 반환"
      ],
      "metadata": {
        "id": "RVxMfvdWWWc_"
      }
    },
    {
      "cell_type": "code",
      "source": [
        "arr.mean(axis = 1)"
      ],
      "metadata": {
        "colab": {
          "base_uri": "https://localhost:8080/"
        },
        "id": "HbafN2aMWWVK",
        "outputId": "f80a7aa7-1c05-4622-f11f-f424629e85b3"
      },
      "execution_count": 29,
      "outputs": [
        {
          "output_type": "execute_result",
          "data": {
            "text/plain": [
              "array([-0.0101759 , -0.19152716,  0.00138799, -0.40192423,  0.44939252])"
            ]
          },
          "metadata": {},
          "execution_count": 29
        }
      ]
    },
    {
      "cell_type": "code",
      "source": [
        "arr.sum(axis = 0)"
      ],
      "metadata": {
        "colab": {
          "base_uri": "https://localhost:8080/"
        },
        "id": "Ai11q01gWWNe",
        "outputId": "b74ae796-06af-4851-d034-16587980dfde"
      },
      "execution_count": 31,
      "outputs": [
        {
          "output_type": "execute_result",
          "data": {
            "text/plain": [
              "array([-2.23075613,  0.98620109,  3.09733675, -2.46416884])"
            ]
          },
          "metadata": {},
          "execution_count": 31
        }
      ]
    },
    {
      "cell_type": "markdown",
      "source": [
        "**arr.sum(0)** : 로우의 합\n",
        "\n",
        "**arr.mean(1)** : 모든컬럼에서 평균"
      ],
      "metadata": {
        "id": "7pwCjjEFWUMl"
      }
    },
    {
      "cell_type": "markdown",
      "source": [
        "**cumsum, cumprod** : 중간 계산값을 담고 있는 배열 반환"
      ],
      "metadata": {
        "id": "jtP7u9K-WUWU"
      }
    },
    {
      "cell_type": "code",
      "source": [
        "arr = np.array([0, 1, 2, 3, 4, 5, 6, 7])\n",
        "arr.cumsum()"
      ],
      "metadata": {
        "colab": {
          "base_uri": "https://localhost:8080/"
        },
        "id": "26gMSbvDWUe8",
        "outputId": "228c9b5c-9410-43e2-969d-03d2228536d8"
      },
      "execution_count": 33,
      "outputs": [
        {
          "output_type": "execute_result",
          "data": {
            "text/plain": [
              "array([ 0,  1,  3,  6, 10, 15, 21, 28])"
            ]
          },
          "metadata": {},
          "execution_count": 33
        }
      ]
    },
    {
      "cell_type": "code",
      "source": [
        "arr  = np.array([[0, 1, 2], [3, 4, 5], [6, 7, 8]])\n",
        "arr"
      ],
      "metadata": {
        "colab": {
          "base_uri": "https://localhost:8080/"
        },
        "id": "IFiP2nX7WUmq",
        "outputId": "c8c7e915-005c-4460-f5cd-38be53d23c4f"
      },
      "execution_count": 34,
      "outputs": [
        {
          "output_type": "execute_result",
          "data": {
            "text/plain": [
              "array([[0, 1, 2],\n",
              "       [3, 4, 5],\n",
              "       [6, 7, 8]])"
            ]
          },
          "metadata": {},
          "execution_count": 34
        }
      ]
    },
    {
      "cell_type": "code",
      "source": [
        "arr.cumsum(axis = 0) # 열 누적"
      ],
      "metadata": {
        "colab": {
          "base_uri": "https://localhost:8080/"
        },
        "id": "KZbhXtQAWUuC",
        "outputId": "d6e8d4e5-8590-4d67-dd57-e214d8304783"
      },
      "execution_count": 35,
      "outputs": [
        {
          "output_type": "execute_result",
          "data": {
            "text/plain": [
              "array([[ 0,  1,  2],\n",
              "       [ 3,  5,  7],\n",
              "       [ 9, 12, 15]])"
            ]
          },
          "metadata": {},
          "execution_count": 35
        }
      ]
    },
    {
      "cell_type": "code",
      "source": [
        "arr.cumprod(axis = 1)"
      ],
      "metadata": {
        "colab": {
          "base_uri": "https://localhost:8080/"
        },
        "id": "gA-Vy_tfWU1r",
        "outputId": "78515ab5-d7ae-4885-ce67-e183faa08daf"
      },
      "execution_count": 37,
      "outputs": [
        {
          "output_type": "execute_result",
          "data": {
            "text/plain": [
              "array([[  0,   0,   0],\n",
              "       [  3,  12,  60],\n",
              "       [  6,  42, 336]])"
            ]
          },
          "metadata": {},
          "execution_count": 37
        }
      ]
    },
    {
      "cell_type": "markdown",
      "source": [
        "**기본 배열 통계 메서드**\n",
        "\n",
        "**sum** : 배열 전체 or 특정 축에 대한 모든 원소의 함 계산, 크기가 0인 배열에 대한 sum 결과는 0\n",
        "\n",
        "**mean** : 산술 평균 계산, 크기가 0인 배열에 대한 mean 결과는 NaN\n",
        "\n",
        "**std, var** : 각각 표준편차(std)와 분산(var), 선택적으로 자유도를 줄 수 있으며 분모의 기본 값은 n이다.\n",
        "\n",
        "**min, max** : 최솟값과 최댓값\n",
        "\n",
        "**argmin, argmax** : 최소 원소의 색인값과 최대 원소의 색인값\n",
        "\n",
        "**cumsum** : 각 원소의 누적값\n",
        "\n",
        "**cumprod** : 각 원소의 누적곱\n",
        ""
      ],
      "metadata": {
        "id": "VZ5IsVIRWU9q"
      }
    },
    {
      "cell_type": "markdown",
      "source": [
        "4.3.3 불리언 배열을 위한 메서드"
      ],
      "metadata": {
        "id": "UxxcYgTUZRTl"
      }
    },
    {
      "cell_type": "markdown",
      "source": [
        "* sum 메서드를 실행하면 불리언 배열에서 True인 원소의 개수를 셀 수 있음"
      ],
      "metadata": {
        "id": "9c2FTEOzZRLC"
      }
    },
    {
      "cell_type": "code",
      "source": [
        "arr = np.random.randn(100)"
      ],
      "metadata": {
        "id": "GDaC4NPFZRDN"
      },
      "execution_count": 39,
      "outputs": []
    },
    {
      "cell_type": "code",
      "source": [
        "(arr > 0).sum() # 양수인 원소의 개수"
      ],
      "metadata": {
        "colab": {
          "base_uri": "https://localhost:8080/"
        },
        "id": "bObie9iBZQ82",
        "outputId": "94b24a3d-a61b-4599-afd2-aa125553f4e8"
      },
      "execution_count": 40,
      "outputs": [
        {
          "output_type": "execute_result",
          "data": {
            "text/plain": [
              "47"
            ]
          },
          "metadata": {},
          "execution_count": 40
        }
      ]
    },
    {
      "cell_type": "markdown",
      "source": [
        "* **any** : 하나 이상의 값이 True인지 검사\n",
        "\n",
        "* **all** : 모든 원소가 True인지 검사"
      ],
      "metadata": {
        "id": "Q3pu_DGjZp-2"
      }
    },
    {
      "cell_type": "code",
      "source": [
        "bools = np.array([False, False, True, False])"
      ],
      "metadata": {
        "id": "macTmLGrZp4n"
      },
      "execution_count": 41,
      "outputs": []
    },
    {
      "cell_type": "code",
      "source": [
        "bools.any()"
      ],
      "metadata": {
        "colab": {
          "base_uri": "https://localhost:8080/"
        },
        "id": "Q72FDTsyZpyv",
        "outputId": "d4b4f183-8874-48a2-a9af-574ff206313d"
      },
      "execution_count": 42,
      "outputs": [
        {
          "output_type": "execute_result",
          "data": {
            "text/plain": [
              "True"
            ]
          },
          "metadata": {},
          "execution_count": 42
        }
      ]
    },
    {
      "cell_type": "code",
      "source": [
        "bools.all()"
      ],
      "metadata": {
        "colab": {
          "base_uri": "https://localhost:8080/"
        },
        "id": "TeIsDDywWVFm",
        "outputId": "749ddcb0-e616-4d12-c8f3-888a54c0935f"
      },
      "execution_count": 43,
      "outputs": [
        {
          "output_type": "execute_result",
          "data": {
            "text/plain": [
              "False"
            ]
          },
          "metadata": {},
          "execution_count": 43
        }
      ]
    },
    {
      "cell_type": "markdown",
      "source": [
        "이들 메서드는 불리언 배열이 아니어도 동작하는데, 0이 아닌 원소는 모두 True로 간주"
      ],
      "metadata": {
        "id": "wKq7YXJyWVMz"
      }
    },
    {
      "cell_type": "markdown",
      "source": [
        "### 4.3.4 정렬"
      ],
      "metadata": {
        "id": "u8M1WuGtbYNU"
      }
    },
    {
      "cell_type": "code",
      "source": [
        "arr = np.random.randn(6)\n",
        "arr"
      ],
      "metadata": {
        "colab": {
          "base_uri": "https://localhost:8080/"
        },
        "id": "5yBg82-ybYFR",
        "outputId": "9917392c-6b1f-4ea7-faa8-50f60c314839"
      },
      "execution_count": 45,
      "outputs": [
        {
          "output_type": "execute_result",
          "data": {
            "text/plain": [
              "array([-0.10563127,  0.12854102,  0.02327904,  2.71107382,  0.36458491,\n",
              "        1.68183784])"
            ]
          },
          "metadata": {},
          "execution_count": 45
        }
      ]
    },
    {
      "cell_type": "code",
      "source": [
        "arr.sort()\n",
        "arr"
      ],
      "metadata": {
        "colab": {
          "base_uri": "https://localhost:8080/"
        },
        "id": "v7ka5PLrbX7C",
        "outputId": "eed855e8-2ca2-49a9-abef-0694d8b7f1f5"
      },
      "execution_count": 47,
      "outputs": [
        {
          "output_type": "execute_result",
          "data": {
            "text/plain": [
              "array([-0.10563127,  0.02327904,  0.12854102,  0.36458491,  1.68183784,\n",
              "        2.71107382])"
            ]
          },
          "metadata": {},
          "execution_count": 47
        }
      ]
    },
    {
      "cell_type": "code",
      "source": [
        "arr = np.random.randn(5, 3)\n",
        "arr"
      ],
      "metadata": {
        "colab": {
          "base_uri": "https://localhost:8080/"
        },
        "id": "WZFa-D1nbXzS",
        "outputId": "a2c8b8cf-a760-44cc-d99b-c29702397d94"
      },
      "execution_count": 48,
      "outputs": [
        {
          "output_type": "execute_result",
          "data": {
            "text/plain": [
              "array([[-0.8196246 ,  0.24648165, -0.53802094],\n",
              "       [-0.07886884,  1.88959262, -0.38173901],\n",
              "       [-0.07355362, -0.48869224, -1.03329672],\n",
              "       [ 1.35731149,  0.19155848, -1.63882583],\n",
              "       [-0.40204514,  0.11913461, -0.43753771]])"
            ]
          },
          "metadata": {},
          "execution_count": 48
        }
      ]
    },
    {
      "cell_type": "code",
      "source": [
        "arr.sort(1) # 로우 기준 sort()\n",
        "arr"
      ],
      "metadata": {
        "colab": {
          "base_uri": "https://localhost:8080/"
        },
        "id": "qLSS2mvObrLo",
        "outputId": "06d7e3d9-84d6-4a70-bceb-5b13b7b09090"
      },
      "execution_count": 50,
      "outputs": [
        {
          "output_type": "execute_result",
          "data": {
            "text/plain": [
              "array([[-0.8196246 , -0.53802094,  0.24648165],\n",
              "       [-0.38173901, -0.07886884,  1.88959262],\n",
              "       [-1.03329672, -0.48869224, -0.07355362],\n",
              "       [-1.63882583,  0.19155848,  1.35731149],\n",
              "       [-0.43753771, -0.40204514,  0.11913461]])"
            ]
          },
          "metadata": {},
          "execution_count": 50
        }
      ]
    },
    {
      "cell_type": "code",
      "source": [
        "large_arr = np.random.randn(1000)\n",
        "large_arr.sort()"
      ],
      "metadata": {
        "id": "h2QCSJLDb_Qr"
      },
      "execution_count": 51,
      "outputs": []
    },
    {
      "cell_type": "code",
      "source": [
        "large_arr[int(0.05 * len(large_arr))] # 5% 분위수"
      ],
      "metadata": {
        "colab": {
          "base_uri": "https://localhost:8080/"
        },
        "id": "kSV4XIvub_Ip",
        "outputId": "32a66933-46cf-4236-a69c-13d680a84f7e"
      },
      "execution_count": 53,
      "outputs": [
        {
          "output_type": "execute_result",
          "data": {
            "text/plain": [
              "-1.6793288594504066"
            ]
          },
          "metadata": {},
          "execution_count": 53
        }
      ]
    },
    {
      "cell_type": "markdown",
      "source": [
        "### 4.3.5 집합 관련 함수"
      ],
      "metadata": {
        "id": "n8aFkdHXWVU9"
      }
    },
    {
      "cell_type": "code",
      "source": [
        "names = np.array(['Bob', 'Joe', 'Will','Bob', 'Will', 'Joe', 'Joe' ])\n",
        "np.unique(names)"
      ],
      "metadata": {
        "colab": {
          "base_uri": "https://localhost:8080/"
        },
        "id": "bwmZ7JTbVmxz",
        "outputId": "1310173d-107b-4e8f-cec6-40dbd05cdb89"
      },
      "execution_count": 54,
      "outputs": [
        {
          "output_type": "execute_result",
          "data": {
            "text/plain": [
              "array(['Bob', 'Joe', 'Will'], dtype='<U4')"
            ]
          },
          "metadata": {},
          "execution_count": 54
        }
      ]
    },
    {
      "cell_type": "code",
      "source": [
        "ints = np.array([3, 3, 3, 2, 2, 1, 1, 4, 4])\n",
        "np.unique(ints)"
      ],
      "metadata": {
        "colab": {
          "base_uri": "https://localhost:8080/"
        },
        "id": "PFB05Hw-Vm7I",
        "outputId": "955ccda7-2be5-4e5f-dc87-9f070e1b98d6"
      },
      "execution_count": 55,
      "outputs": [
        {
          "output_type": "execute_result",
          "data": {
            "text/plain": [
              "array([1, 2, 3, 4])"
            ]
          },
          "metadata": {},
          "execution_count": 55
        }
      ]
    },
    {
      "cell_type": "code",
      "source": [
        "sorted(set(names))"
      ],
      "metadata": {
        "colab": {
          "base_uri": "https://localhost:8080/"
        },
        "id": "bi3yiCz_VnEs",
        "outputId": "e009e320-8466-45e7-a3b1-5d76828b48d6"
      },
      "execution_count": 56,
      "outputs": [
        {
          "output_type": "execute_result",
          "data": {
            "text/plain": [
              "['Bob', 'Joe', 'Will']"
            ]
          },
          "metadata": {},
          "execution_count": 56
        }
      ]
    },
    {
      "cell_type": "code",
      "source": [
        "values = np.array([6, 0, 0, 3, 2, 5, 6])\n",
        "np.in1d(values, [2, 3, 6])"
      ],
      "metadata": {
        "colab": {
          "base_uri": "https://localhost:8080/"
        },
        "id": "b3VoHTFkVnNf",
        "outputId": "96b4bc14-4fbb-4be3-82d3-fc7c8bc5e28c"
      },
      "execution_count": 57,
      "outputs": [
        {
          "output_type": "execute_result",
          "data": {
            "text/plain": [
              "array([ True, False, False,  True,  True, False,  True])"
            ]
          },
          "metadata": {},
          "execution_count": 57
        }
      ]
    }
  ]
}