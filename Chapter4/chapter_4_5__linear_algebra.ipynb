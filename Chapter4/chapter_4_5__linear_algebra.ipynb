{
  "nbformat": 4,
  "nbformat_minor": 0,
  "metadata": {
    "colab": {
      "provenance": []
    },
    "kernelspec": {
      "name": "python3",
      "display_name": "Python 3"
    },
    "language_info": {
      "name": "python"
    }
  },
  "cells": [
    {
      "cell_type": "markdown",
      "source": [
        "## 4.5 선형대수"
      ],
      "metadata": {
        "id": "zy7eO4a7gSii"
      }
    },
    {
      "cell_type": "markdown",
      "source": [
        "**선형대수** : 행렬의 곱셈, 분할, 행렬식 그리고 정사각 행렬 수학 같은 배열을 다루는 라이브러리\n",
        "\n",
        "* 매트랩과 같은 언어와 다르게 두 개의 2차원 배열을 * 연산자로 곱하면 행렬 곱셈이 아니라 대응하는 각각의 원소의 곱 계산\n",
        "* 행렬 곱셈은 배열 메서드이자 numpy 네임스페이스 안에 있는 dot 함수 이용하여 계산"
      ],
      "metadata": {
        "id": "J35h2gKWgSbo"
      }
    },
    {
      "cell_type": "code",
      "source": [
        "import numpy as np"
      ],
      "metadata": {
        "id": "VRFwtz_Dg_e5"
      },
      "execution_count": 2,
      "outputs": []
    },
    {
      "cell_type": "code",
      "source": [
        "x = np.array([[1., 2., 3.], [4., 5., 6.]])\n",
        "y = np.array([[6., 23.], [-1, 7], [8, 9]])"
      ],
      "metadata": {
        "id": "ZPMtM4kXgSVK"
      },
      "execution_count": 3,
      "outputs": []
    },
    {
      "cell_type": "code",
      "source": [
        "x"
      ],
      "metadata": {
        "colab": {
          "base_uri": "https://localhost:8080/"
        },
        "id": "kjYV2GzvgSOo",
        "outputId": "14e711ba-efc4-466a-b233-1dd97eec715f"
      },
      "execution_count": 4,
      "outputs": [
        {
          "output_type": "execute_result",
          "data": {
            "text/plain": [
              "array([[1., 2., 3.],\n",
              "       [4., 5., 6.]])"
            ]
          },
          "metadata": {},
          "execution_count": 4
        }
      ]
    },
    {
      "cell_type": "code",
      "source": [
        "y"
      ],
      "metadata": {
        "colab": {
          "base_uri": "https://localhost:8080/"
        },
        "id": "iKZs4WBNgSIe",
        "outputId": "433693ab-ce09-4302-c9e1-24c66b7a833e"
      },
      "execution_count": 5,
      "outputs": [
        {
          "output_type": "execute_result",
          "data": {
            "text/plain": [
              "array([[ 6., 23.],\n",
              "       [-1.,  7.],\n",
              "       [ 8.,  9.]])"
            ]
          },
          "metadata": {},
          "execution_count": 5
        }
      ]
    },
    {
      "cell_type": "code",
      "source": [
        "x.dot(y)"
      ],
      "metadata": {
        "colab": {
          "base_uri": "https://localhost:8080/"
        },
        "id": "bjZPf-gDgSBv",
        "outputId": "0e0bfea7-619a-4f56-84a2-efd4329c0ca8"
      },
      "execution_count": 6,
      "outputs": [
        {
          "output_type": "execute_result",
          "data": {
            "text/plain": [
              "array([[ 28.,  64.],\n",
              "       [ 67., 181.]])"
            ]
          },
          "metadata": {},
          "execution_count": 6
        }
      ]
    },
    {
      "cell_type": "markdown",
      "source": [
        "* x.dot(y)는 np.dot(x, y)와 같다"
      ],
      "metadata": {
        "id": "NQxINt_ThLQH"
      }
    },
    {
      "cell_type": "code",
      "source": [
        "np.dot(x, y)"
      ],
      "metadata": {
        "colab": {
          "base_uri": "https://localhost:8080/"
        },
        "id": "1aaGQxvKgR7l",
        "outputId": "382beb20-1442-49ac-888f-3d66f45b5e0c"
      },
      "execution_count": 7,
      "outputs": [
        {
          "output_type": "execute_result",
          "data": {
            "text/plain": [
              "array([[ 28.,  64.],\n",
              "       [ 67., 181.]])"
            ]
          },
          "metadata": {},
          "execution_count": 7
        }
      ]
    },
    {
      "cell_type": "markdown",
      "source": [
        "2차원 배열과 곱셈이 가능한 크기의 1차원 배열 간의 행렬 곱셈의 결과는 1차원 배열이다."
      ],
      "metadata": {
        "id": "a449TqPEhajL"
      }
    },
    {
      "cell_type": "code",
      "source": [
        "np.dot(x, np.ones(3))"
      ],
      "metadata": {
        "colab": {
          "base_uri": "https://localhost:8080/"
        },
        "id": "BV4L2zH3hUV5",
        "outputId": "2d2c4615-ef7b-4a73-c406-f9271737fafd"
      },
      "execution_count": 10,
      "outputs": [
        {
          "output_type": "execute_result",
          "data": {
            "text/plain": [
              "array([ 6., 15.])"
            ]
          },
          "metadata": {},
          "execution_count": 10
        }
      ]
    },
    {
      "cell_type": "markdown",
      "source": [
        "**@** : 행렬 곱셈을 수행하는 연산자"
      ],
      "metadata": {
        "id": "UrTiYNf9hUPa"
      }
    },
    {
      "cell_type": "code",
      "source": [
        "np.ones(3)"
      ],
      "metadata": {
        "colab": {
          "base_uri": "https://localhost:8080/"
        },
        "id": "DJgMYkLFhrtb",
        "outputId": "3022a513-449b-429c-b6ca-1aeca0eb0668"
      },
      "execution_count": 12,
      "outputs": [
        {
          "output_type": "execute_result",
          "data": {
            "text/plain": [
              "array([1., 1., 1.])"
            ]
          },
          "metadata": {},
          "execution_count": 12
        }
      ]
    },
    {
      "cell_type": "code",
      "source": [
        "x @ np.ones(3)"
      ],
      "metadata": {
        "colab": {
          "base_uri": "https://localhost:8080/"
        },
        "id": "-Rcm-gfIhUIf",
        "outputId": "0fc0056a-2bec-4c5e-a0b3-fa75ccbea7e4"
      },
      "execution_count": 11,
      "outputs": [
        {
          "output_type": "execute_result",
          "data": {
            "text/plain": [
              "array([ 6., 15.])"
            ]
          },
          "metadata": {},
          "execution_count": 11
        }
      ]
    },
    {
      "cell_type": "markdown",
      "source": [
        "**numpy.linalg** : 행렬의 분할과 역향렬, 행렬식과 같은 것들 포함"
      ],
      "metadata": {
        "id": "zM6_mnJrhUC3"
      }
    },
    {
      "cell_type": "code",
      "source": [
        "from numpy.linalg  import inv, qr"
      ],
      "metadata": {
        "id": "3CgUZrO2gR1V"
      },
      "execution_count": 14,
      "outputs": []
    },
    {
      "cell_type": "code",
      "source": [
        "X = np.random.randn(5, 5)"
      ],
      "metadata": {
        "id": "NGszvU0FgRu6"
      },
      "execution_count": 15,
      "outputs": []
    },
    {
      "cell_type": "code",
      "source": [
        "mat = X.T.dot(X)"
      ],
      "metadata": {
        "id": "I1p9XgSfgRoQ"
      },
      "execution_count": 17,
      "outputs": []
    },
    {
      "cell_type": "code",
      "source": [
        "mat"
      ],
      "metadata": {
        "colab": {
          "base_uri": "https://localhost:8080/"
        },
        "id": "ihCjhVFfjwN1",
        "outputId": "f783ad58-4783-4828-b4f8-9e4c69369bd2"
      },
      "execution_count": 24,
      "outputs": [
        {
          "output_type": "execute_result",
          "data": {
            "text/plain": [
              "array([[ 5.26423074,  0.04600737, -1.48478531,  0.44958394, -2.3794843 ],\n",
              "       [ 0.04600737,  2.36520171,  1.32860256, -1.86091473, -0.2925064 ],\n",
              "       [-1.48478531,  1.32860256,  3.32583467, -2.56738091,  1.17154342],\n",
              "       [ 0.44958394, -1.86091473, -2.56738091,  2.64522005,  0.09890121],\n",
              "       [-2.3794843 , -0.2925064 ,  1.17154342,  0.09890121,  4.88345207]])"
            ]
          },
          "metadata": {},
          "execution_count": 24
        }
      ]
    },
    {
      "cell_type": "code",
      "source": [
        "#역행렬\n",
        "inv(mat)"
      ],
      "metadata": {
        "colab": {
          "base_uri": "https://localhost:8080/"
        },
        "id": "Q1GDMOncgRhu",
        "outputId": "60f4c24d-0f6b-4f62-d136-8e7b1764f8db"
      },
      "execution_count": 25,
      "outputs": [
        {
          "output_type": "execute_result",
          "data": {
            "text/plain": [
              "array([[ 0.2749645 ,  0.03997983,  0.26529284,  0.23633861,  0.06794206],\n",
              "       [ 0.03997983,  1.44058344,  1.23141812,  2.21060342, -0.23442022],\n",
              "       [ 0.26529284,  1.23141812,  3.22882947,  3.97941485, -0.65216675],\n",
              "       [ 0.23633861,  2.21060342,  3.97941485,  5.7861676 , -0.82428097],\n",
              "       [ 0.06794206, -0.23442022, -0.65216675, -0.82428097,  0.39698592]])"
            ]
          },
          "metadata": {},
          "execution_count": 25
        }
      ]
    },
    {
      "cell_type": "code",
      "source": [
        "mat.dot(inv(mat))"
      ],
      "metadata": {
        "colab": {
          "base_uri": "https://localhost:8080/"
        },
        "id": "HJOxung8gRbZ",
        "outputId": "e1be36db-e191-4d00-99ee-a8af129fbeb3"
      },
      "execution_count": 19,
      "outputs": [
        {
          "output_type": "execute_result",
          "data": {
            "text/plain": [
              "array([[ 1.00000000e+00,  1.12488724e-16,  6.38044132e-17,\n",
              "        -4.90908839e-16,  1.50320428e-16],\n",
              "       [ 1.57533116e-17,  1.00000000e+00, -7.99481534e-16,\n",
              "         1.09007639e-15, -2.68393587e-16],\n",
              "       [ 9.28284018e-19, -6.03320970e-16,  1.00000000e+00,\n",
              "         1.41967997e-15, -1.01648526e-16],\n",
              "       [-3.91113424e-17,  4.21669633e-16,  1.48174532e-15,\n",
              "         1.00000000e+00,  4.98729980e-16],\n",
              "       [ 1.19639436e-16, -1.68436605e-16,  6.36661444e-16,\n",
              "         1.03052512e-16,  1.00000000e+00]])"
            ]
          },
          "metadata": {},
          "execution_count": 19
        }
      ]
    },
    {
      "cell_type": "code",
      "source": [
        "q, r = qr(mat)"
      ],
      "metadata": {
        "id": "GuiUyUvIgRU_"
      },
      "execution_count": 20,
      "outputs": []
    },
    {
      "cell_type": "code",
      "source": [
        "r"
      ],
      "metadata": {
        "colab": {
          "base_uri": "https://localhost:8080/"
        },
        "id": "TrhmmUPjgRPA",
        "outputId": "3b98dfba-f039-42c9-a327-9f8752393e42"
      },
      "execution_count": 23,
      "outputs": [
        {
          "output_type": "execute_result",
          "data": {
            "text/plain": [
              "array([[-5.98188102,  0.29460674,  2.78093124, -1.17806119,  4.3221748 ],\n",
              "       [ 0.        , -3.28987099, -3.3765842 ,  3.76798266,  0.64763159],\n",
              "       [ 0.        ,  0.        , -1.96469024,  1.19868192, -1.36160346],\n",
              "       [ 0.        ,  0.        ,  0.        , -0.4911057 , -3.04414983],\n",
              "       [ 0.        ,  0.        ,  0.        ,  0.        ,  0.86975354]])"
            ]
          },
          "metadata": {},
          "execution_count": 23
        }
      ]
    },
    {
      "cell_type": "markdown",
      "source": [
        "**자주 사용하는 numpy.linalg 함수**\n",
        "\n",
        "**diag** : 정사각 행렬의 대각/비대각 원소를 1차원 배열로 반환하거나, 1차원 배열을 대각선 원소로 하고 나머지는 0으로 채운 단위행렬을 반환\n",
        "\n",
        "**dot** : 행렬 곱셈\n",
        "\n",
        "**trace** :행렬의 대각선 원소의 합 계산\n",
        "\n",
        "**det** : 행렬식 계산\n",
        "\n",
        "**eig** : 정사각 행렬의 고윳값과 고유벡터 계산\n",
        "\n",
        "**inv** : 정사각 행렬의 역행렬 계산\n",
        "\n",
        "**pinv** : 정사각 행렬의 무어-펜로즈 유사역원 역행렬 구하기\n",
        "\n",
        "**qr** :  QR 분해 계산\n",
        "\n",
        "**svd** : 특잇값 분해(SVD) 계산\n",
        "\n",
        "**solve** : A가 정사각 행렬일 때,Ax = b를 만족하는 x 구하기\n",
        "\n",
        "**istsq** : Ax = b를 만족하는 최소제곱해 구하기\n"
      ],
      "metadata": {
        "id": "XbJUXeIlgDNb"
      }
    }
  ]
}