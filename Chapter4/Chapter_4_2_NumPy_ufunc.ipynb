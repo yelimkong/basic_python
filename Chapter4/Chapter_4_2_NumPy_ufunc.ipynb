{
  "nbformat": 4,
  "nbformat_minor": 0,
  "metadata": {
    "colab": {
      "provenance": []
    },
    "kernelspec": {
      "name": "python3",
      "display_name": "Python 3"
    },
    "language_info": {
      "name": "python"
    }
  },
  "cells": [
    {
      "cell_type": "markdown",
      "source": [
        "## 4.2 유니버셜 함수 : 배열의 각 원소를 빠르게 처리하는 함수\n"
      ],
      "metadata": {
        "id": "aBo9GQL1WiC7"
      }
    },
    {
      "cell_type": "markdown",
      "source": [
        "**ufunc** : ndarray 안에 있는 데이터 원소별로 연산을 수행하는 함수\n",
        "\n",
        "* 하나 이상의 스칼라값을 받아서 하나 이상의 스칼라 결과값을 반환하는 간단한 함수를 고속으로 수행할 수 있는 벡터화된 래퍼 함수"
      ],
      "metadata": {
        "id": "FEe7pUpHWh7C"
      }
    },
    {
      "cell_type": "markdown",
      "source": [
        "많은 ufunc는 sqrt나 exp같은 간단한 변형을 전체 원소에 적용할 수 있다.\n",
        "\n",
        "**→단항 유니버설 함수**"
      ],
      "metadata": {
        "id": "URK2fE0CWhyz"
      }
    },
    {
      "cell_type": "code",
      "source": [
        "import numpy as np"
      ],
      "metadata": {
        "id": "GVj8q56QXR_R"
      },
      "execution_count": 25,
      "outputs": []
    },
    {
      "cell_type": "code",
      "source": [
        "arr = np.arange(10)\n",
        "arr"
      ],
      "metadata": {
        "colab": {
          "base_uri": "https://localhost:8080/"
        },
        "id": "4d0Ov3iWWhqU",
        "outputId": "df74cc86-0d81-4b0f-c4f6-ebdca2a6cfa6"
      },
      "execution_count": 26,
      "outputs": [
        {
          "output_type": "execute_result",
          "data": {
            "text/plain": [
              "array([0, 1, 2, 3, 4, 5, 6, 7, 8, 9])"
            ]
          },
          "metadata": {},
          "execution_count": 26
        }
      ]
    },
    {
      "cell_type": "code",
      "source": [
        "np.sqrt(arr)"
      ],
      "metadata": {
        "colab": {
          "base_uri": "https://localhost:8080/"
        },
        "id": "JmXlfZbJWhih",
        "outputId": "c57c099c-b19e-4a8c-98c7-ffd5aa3c1283"
      },
      "execution_count": 27,
      "outputs": [
        {
          "output_type": "execute_result",
          "data": {
            "text/plain": [
              "array([0.        , 1.        , 1.41421356, 1.73205081, 2.        ,\n",
              "       2.23606798, 2.44948974, 2.64575131, 2.82842712, 3.        ])"
            ]
          },
          "metadata": {},
          "execution_count": 27
        }
      ]
    },
    {
      "cell_type": "code",
      "source": [
        "np.exp(arr)"
      ],
      "metadata": {
        "colab": {
          "base_uri": "https://localhost:8080/"
        },
        "id": "6Ty1lLf2WhZ9",
        "outputId": "fb5e455c-e0c4-4f46-b2c5-0b22bf5e15a8"
      },
      "execution_count": 28,
      "outputs": [
        {
          "output_type": "execute_result",
          "data": {
            "text/plain": [
              "array([1.00000000e+00, 2.71828183e+00, 7.38905610e+00, 2.00855369e+01,\n",
              "       5.45981500e+01, 1.48413159e+02, 4.03428793e+02, 1.09663316e+03,\n",
              "       2.98095799e+03, 8.10308393e+03])"
            ]
          },
          "metadata": {},
          "execution_count": 28
        }
      ]
    },
    {
      "cell_type": "markdown",
      "source": [
        "**이항** 유니버설 함수 : add나 maximum처럼 2개의 인자를 취해서 단일 배열을 반환하는 함수"
      ],
      "metadata": {
        "id": "JnbbEEFUWhTY"
      }
    },
    {
      "cell_type": "code",
      "source": [
        "x = np.random.randn(8)\n",
        "y = np.random.randn(8)"
      ],
      "metadata": {
        "id": "SWuHTOxaWhLG"
      },
      "execution_count": 29,
      "outputs": []
    },
    {
      "cell_type": "code",
      "source": [
        "x"
      ],
      "metadata": {
        "colab": {
          "base_uri": "https://localhost:8080/"
        },
        "id": "lD5xpu61WhEF",
        "outputId": "fee160c3-1405-416c-99b8-3543436bc5d6"
      },
      "execution_count": 30,
      "outputs": [
        {
          "output_type": "execute_result",
          "data": {
            "text/plain": [
              "array([-0.52314389, -1.99474747, -0.45576066,  1.73909758,  0.45880913,\n",
              "        0.58398629, -2.91465733,  0.76074678])"
            ]
          },
          "metadata": {},
          "execution_count": 30
        }
      ]
    },
    {
      "cell_type": "code",
      "source": [
        "y"
      ],
      "metadata": {
        "colab": {
          "base_uri": "https://localhost:8080/"
        },
        "id": "jyR6ntItWg83",
        "outputId": "87eea9a1-e048-4730-8130-63a442419582"
      },
      "execution_count": 31,
      "outputs": [
        {
          "output_type": "execute_result",
          "data": {
            "text/plain": [
              "array([ 0.5967716 ,  0.71087809,  0.98252522,  0.02905718, -1.97298893,\n",
              "       -0.70459463,  0.28851637, -0.77464715])"
            ]
          },
          "metadata": {},
          "execution_count": 31
        }
      ]
    },
    {
      "cell_type": "markdown",
      "source": [
        "**`numpy.maximum`** 은 x와 y의 원소별로 가장 큰 값을 계산"
      ],
      "metadata": {
        "id": "8ZxeaXcLYGcI"
      }
    },
    {
      "cell_type": "code",
      "source": [
        "np.maximum(x, y)"
      ],
      "metadata": {
        "colab": {
          "base_uri": "https://localhost:8080/"
        },
        "id": "N5ZoaIx9X9b-",
        "outputId": "29c7807c-ffbb-4e2b-b51e-5841c6efee8b"
      },
      "execution_count": 32,
      "outputs": [
        {
          "output_type": "execute_result",
          "data": {
            "text/plain": [
              "array([0.5967716 , 0.71087809, 0.98252522, 1.73909758, 0.45880913,\n",
              "       0.58398629, 0.28851637, 0.76074678])"
            ]
          },
          "metadata": {},
          "execution_count": 32
        }
      ]
    },
    {
      "cell_type": "markdown",
      "source": [
        "* modf  : 파이썬 내장 함수인 divmod의 벡터화 버전, 분수를 받아서 몫과 나머지를 함께 반환"
      ],
      "metadata": {
        "id": "-e3ilm7yX9Te"
      }
    },
    {
      "cell_type": "code",
      "source": [
        "arr = np.random.randn(7) * 5\n",
        "arr"
      ],
      "metadata": {
        "colab": {
          "base_uri": "https://localhost:8080/"
        },
        "id": "Qg7pHXR6X9K4",
        "outputId": "6707514d-9410-4875-ba6a-010e2cec8a1e"
      },
      "execution_count": 33,
      "outputs": [
        {
          "output_type": "execute_result",
          "data": {
            "text/plain": [
              "array([-0.89675003, -1.19229637,  3.19352847,  7.19470648,  1.61578056,\n",
              "       -1.91433246,  1.61869896])"
            ]
          },
          "metadata": {},
          "execution_count": 33
        }
      ]
    },
    {
      "cell_type": "code",
      "source": [
        "remainder, whole_part = np.modf(arr)"
      ],
      "metadata": {
        "id": "OCKA-GQDX9CR"
      },
      "execution_count": 34,
      "outputs": []
    },
    {
      "cell_type": "code",
      "source": [
        "# 나머지 반환\n",
        "remainder"
      ],
      "metadata": {
        "colab": {
          "base_uri": "https://localhost:8080/"
        },
        "id": "pOUiJwUCX85_",
        "outputId": "7abc7814-6eef-44fa-f36f-14fe67494cab"
      },
      "execution_count": 35,
      "outputs": [
        {
          "output_type": "execute_result",
          "data": {
            "text/plain": [
              "array([-0.89675003, -0.19229637,  0.19352847,  0.19470648,  0.61578056,\n",
              "       -0.91433246,  0.61869896])"
            ]
          },
          "metadata": {},
          "execution_count": 35
        }
      ]
    },
    {
      "cell_type": "code",
      "source": [
        "# 몫 반환\n",
        "whole_part"
      ],
      "metadata": {
        "colab": {
          "base_uri": "https://localhost:8080/"
        },
        "id": "cAUm9zRhX8yA",
        "outputId": "367747de-85e9-47d1-bb67-05d5ef4f7fd1"
      },
      "execution_count": 36,
      "outputs": [
        {
          "output_type": "execute_result",
          "data": {
            "text/plain": [
              "array([-0., -1.,  3.,  7.,  1., -1.,  1.])"
            ]
          },
          "metadata": {},
          "execution_count": 36
        }
      ]
    },
    {
      "cell_type": "code",
      "source": [
        "arr"
      ],
      "metadata": {
        "colab": {
          "base_uri": "https://localhost:8080/"
        },
        "id": "o2w-qG3EX8p2",
        "outputId": "ebe2c5c4-0aa1-4646-d102-d6754276553f"
      },
      "execution_count": 37,
      "outputs": [
        {
          "output_type": "execute_result",
          "data": {
            "text/plain": [
              "array([-0.89675003, -1.19229637,  3.19352847,  7.19470648,  1.61578056,\n",
              "       -1.91433246,  1.61869896])"
            ]
          },
          "metadata": {},
          "execution_count": 37
        }
      ]
    },
    {
      "cell_type": "code",
      "source": [
        "# np.sqrt : 제곱근 반환 arr ** 0.5\n",
        "np.sqrt(arr)"
      ],
      "metadata": {
        "colab": {
          "base_uri": "https://localhost:8080/"
        },
        "id": "0sZ6o0vTY4bU",
        "outputId": "fa4ae4c7-4ad0-429a-f12c-ef8d7d05ed5c"
      },
      "execution_count": 38,
      "outputs": [
        {
          "output_type": "stream",
          "name": "stderr",
          "text": [
            "<ipython-input-38-b3d874250e53>:2: RuntimeWarning: invalid value encountered in sqrt\n",
            "  np.sqrt(arr)\n"
          ]
        },
        {
          "output_type": "execute_result",
          "data": {
            "text/plain": [
              "array([       nan,        nan, 1.78704462, 2.682295  , 1.27113357,\n",
              "              nan, 1.27228101])"
            ]
          },
          "metadata": {},
          "execution_count": 38
        }
      ]
    },
    {
      "cell_type": "code",
      "source": [
        "np.sqrt(arr, arr)"
      ],
      "metadata": {
        "colab": {
          "base_uri": "https://localhost:8080/"
        },
        "id": "Yd4LGPXbY4Tz",
        "outputId": "ac9ab72e-288f-460e-aa83-332be2642d4d"
      },
      "execution_count": 39,
      "outputs": [
        {
          "output_type": "stream",
          "name": "stderr",
          "text": [
            "<ipython-input-39-164954cb2c14>:1: RuntimeWarning: invalid value encountered in sqrt\n",
            "  np.sqrt(arr, arr)\n"
          ]
        },
        {
          "output_type": "execute_result",
          "data": {
            "text/plain": [
              "array([       nan,        nan, 1.78704462, 2.682295  , 1.27113357,\n",
              "              nan, 1.27228101])"
            ]
          },
          "metadata": {},
          "execution_count": 39
        }
      ]
    },
    {
      "cell_type": "code",
      "source": [
        "arr"
      ],
      "metadata": {
        "colab": {
          "base_uri": "https://localhost:8080/"
        },
        "id": "IO5TX7pNY4MG",
        "outputId": "d22f183e-870a-4fb9-e787-f46acad12487"
      },
      "execution_count": 40,
      "outputs": [
        {
          "output_type": "execute_result",
          "data": {
            "text/plain": [
              "array([       nan,        nan, 1.78704462, 2.682295  , 1.27113357,\n",
              "              nan, 1.27228101])"
            ]
          },
          "metadata": {},
          "execution_count": 40
        }
      ]
    }
  ]
}