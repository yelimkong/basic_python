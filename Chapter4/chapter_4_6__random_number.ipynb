{
  "nbformat": 4,
  "nbformat_minor": 0,
  "metadata": {
    "colab": {
      "provenance": []
    },
    "kernelspec": {
      "name": "python3",
      "display_name": "Python 3"
    },
    "language_info": {
      "name": "python"
    }
  },
  "cells": [
    {
      "cell_type": "markdown",
      "source": [
        "## 4.6 난수 생성"
      ],
      "metadata": {
        "id": "QhSnexAb5h2e"
      }
    },
    {
      "cell_type": "markdown",
      "source": [
        "**numpy.random** 모듈은 파이썬 내장 random 함수를 보강하여 다양한 종류의 확률분포로부터 효과적으로 표본값을 생성하는 데 주로 사용함"
      ],
      "metadata": {
        "id": "67nJ-57k5iyE"
      }
    },
    {
      "cell_type": "code",
      "source": [
        "import numpy as np"
      ],
      "metadata": {
        "id": "-2Yu4dC46YFO"
      },
      "execution_count": 1,
      "outputs": []
    },
    {
      "cell_type": "code",
      "source": [
        "# normal을 사용하여 표준정규분포로부터 생성\n",
        "samples = np.random.normal(size = (4, 4))\n",
        "samples"
      ],
      "metadata": {
        "colab": {
          "base_uri": "https://localhost:8080/"
        },
        "id": "k7jPoITQ5i5L",
        "outputId": "81037201-6972-4a22-d5bd-663ef044da5c"
      },
      "execution_count": 2,
      "outputs": [
        {
          "output_type": "execute_result",
          "data": {
            "text/plain": [
              "array([[-0.51163327,  1.33724753, -0.90213876, -0.92862856],\n",
              "       [-1.14619175, -1.70534824, -1.00072252, -0.09738057],\n",
              "       [ 0.5152611 , -0.94444649,  3.44573335, -1.29307569],\n",
              "       [-1.28229383, -1.72946118,  2.02331844, -0.33787291]])"
            ]
          },
          "metadata": {},
          "execution_count": 2
        }
      ]
    },
    {
      "cell_type": "markdown",
      "source": [
        "python 내장 random 모듈은 한 번에 하나의 값만 생성 가능"
      ],
      "metadata": {
        "id": "TVrYxvbH5jAx"
      }
    },
    {
      "cell_type": "code",
      "source": [
        "from random import normalvariate"
      ],
      "metadata": {
        "id": "q0Of70_S5ho9"
      },
      "execution_count": 4,
      "outputs": []
    },
    {
      "cell_type": "code",
      "source": [
        "N = 1000000"
      ],
      "metadata": {
        "id": "BPjVO-lu5hg6"
      },
      "execution_count": 6,
      "outputs": []
    },
    {
      "cell_type": "markdown",
      "source": [
        "**유사난수** : 난수 생성기의 시드값에 따라 정해진 난수를 알고리즘으로 생성\n",
        "\n",
        "* Numpy 난수 생성기의 시드값은 np.numpy.seed를 이용하여 변경 가능"
      ],
      "metadata": {
        "id": "czifh95G5haM"
      }
    },
    {
      "cell_type": "code",
      "source": [
        "np.random.seed(1234)"
      ],
      "metadata": {
        "id": "EgFi7Q9t5hTF"
      },
      "execution_count": 7,
      "outputs": []
    },
    {
      "cell_type": "code",
      "source": [
        "rng = np.random.RandomState(1234)\n",
        "rng.randn(10)"
      ],
      "metadata": {
        "colab": {
          "base_uri": "https://localhost:8080/"
        },
        "id": "pS-Hnct35hLo",
        "outputId": "d0c488fe-c423-4562-c403-f5eb587ab780"
      },
      "execution_count": 8,
      "outputs": [
        {
          "output_type": "execute_result",
          "data": {
            "text/plain": [
              "array([ 0.47143516, -1.19097569,  1.43270697, -0.3126519 , -0.72058873,\n",
              "        0.88716294,  0.85958841, -0.6365235 ,  0.01569637, -2.24268495])"
            ]
          },
          "metadata": {},
          "execution_count": 8
        }
      ]
    },
    {
      "cell_type": "markdown",
      "source": [
        "**일부numpy.random 함수**\n",
        "\n",
        "**seed** : 난수 생성기의 시드를 지정한다.\n",
        "\n",
        "**permutation** : 순서를 임의로 바꾸거나 임의의순열을 반환한다.\n",
        "\n",
        "**shuffle** : 리스트나 배열의 순서를 뒤섞는다.\n",
        "\n",
        "**rand** : 균등분포에서 표본을 추출한다.\n",
        "\n",
        "**randint** :주어진 최소/최대 범위 안에서 임의의 난수를 추출한다.\n",
        "\n",
        "**randn** : 표준편차가 1이고 평균값이 0인 정규분포(매트랩과 같은 방식)에서 표본을 추출한다.\n",
        "\n",
        "**binomial** : 이항분포에서 표본을 추출한다.\n",
        "\n",
        "**normal** : 정규분포(가우시안)에서 표본을 추출한다.\n",
        "\n",
        "**beta** : 베타분포에서 표본을 추출한다.\n",
        "\n",
        "**chisquare** : 카이제곱분포에서 표본을 추출한다.\n",
        "\n",
        "**gamma** : 감마분포에서 표본을 추출한다.\n",
        "\n",
        "**uniform** : 균등[0, 1)분포에서 표본을 추출한다.\n"
      ],
      "metadata": {
        "id": "X9Qdcvql5hEz"
      }
    }
  ]
}