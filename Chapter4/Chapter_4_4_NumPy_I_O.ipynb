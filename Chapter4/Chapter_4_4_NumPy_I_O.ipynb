{
  "nbformat": 4,
  "nbformat_minor": 0,
  "metadata": {
    "colab": {
      "provenance": []
    },
    "kernelspec": {
      "name": "python3",
      "display_name": "Python 3"
    },
    "language_info": {
      "name": "python"
    }
  },
  "cells": [
    {
      "cell_type": "markdown",
      "source": [
        "## 4.4 배열 데이터의 파일 입출력"
      ],
      "metadata": {
        "id": "Bn8HoPYId3K3"
      }
    },
    {
      "cell_type": "markdown",
      "source": [
        "* **np.save, np.load** : 배열 데이터를 효과적으로 디스크에 저장하고 불러오기 위한 함수\n",
        "\n",
        "* 배열은 기본적으로 압축되지 않은 원시(가공되지 않은) 바이너리 형식의 .npy 파일로 저장됨"
      ],
      "metadata": {
        "id": "UtSwUtMVd3C9"
      }
    },
    {
      "cell_type": "code",
      "source": [
        "import numpy as np"
      ],
      "metadata": {
        "id": "1ODk52KXeYfn"
      },
      "execution_count": 2,
      "outputs": []
    },
    {
      "cell_type": "code",
      "source": [
        "arr = np.arange(10)\n",
        "np.save('some_array', arr)"
      ],
      "metadata": {
        "id": "Hvag8UqId26m"
      },
      "execution_count": 3,
      "outputs": []
    },
    {
      "cell_type": "code",
      "source": [
        "np.load('some_array.npy' )"
      ],
      "metadata": {
        "colab": {
          "base_uri": "https://localhost:8080/"
        },
        "id": "0XpFKejKd2z_",
        "outputId": "093feca0-a305-4d61-f9e2-4241ab41980d"
      },
      "execution_count": 4,
      "outputs": [
        {
          "output_type": "execute_result",
          "data": {
            "text/plain": [
              "array([0, 1, 2, 3, 4, 5, 6, 7, 8, 9])"
            ]
          },
          "metadata": {},
          "execution_count": 4
        }
      ]
    },
    {
      "cell_type": "markdown",
      "source": [
        "np.savez : 여러 개의 배열을 압축된 형식으로 저장, 저장하려는 배열을 키워드 인자 형태로 전달"
      ],
      "metadata": {
        "id": "MDPk47W-e3se"
      }
    },
    {
      "cell_type": "code",
      "source": [
        "np.savez('array_archive.npz', a=arr, b=arr)"
      ],
      "metadata": {
        "id": "n1VYy6q9d2sR"
      },
      "execution_count": 5,
      "outputs": []
    },
    {
      "cell_type": "code",
      "source": [
        "arch = np.load('array_archive.npz')\n",
        "arch['b']"
      ],
      "metadata": {
        "colab": {
          "base_uri": "https://localhost:8080/"
        },
        "id": "F6faZvsRd2k3",
        "outputId": "350d57d4-c001-4a1e-a647-bd049ecff0c6"
      },
      "execution_count": 6,
      "outputs": [
        {
          "output_type": "execute_result",
          "data": {
            "text/plain": [
              "array([0, 1, 2, 3, 4, 5, 6, 7, 8, 9])"
            ]
          },
          "metadata": {},
          "execution_count": 6
        }
      ]
    },
    {
      "cell_type": "markdown",
      "source": [
        "압축이 잘되는 형식의 데이터라면 대신 numpy.savez_compressed 사용"
      ],
      "metadata": {
        "id": "kVex3YSTd2dF"
      }
    },
    {
      "cell_type": "code",
      "source": [
        "np.savez_compressed('arrays_compressed.npz', a=arr, b=arr)"
      ],
      "metadata": {
        "id": "k4ptYgkxd2VL"
      },
      "execution_count": 8,
      "outputs": []
    }
  ]
}